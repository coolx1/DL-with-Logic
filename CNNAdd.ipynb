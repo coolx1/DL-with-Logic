{
  "nbformat": 4,
  "nbformat_minor": 0,
  "metadata": {
    "colab": {
      "name": "CNNAdd.ipynb",
      "provenance": [],
      "collapsed_sections": [],
      "include_colab_link": true
    },
    "kernelspec": {
      "name": "python3",
      "display_name": "Python 3"
    },
    "language_info": {
      "name": "python"
    },
    "accelerator": "GPU"
  },
  "cells": [
    {
      "cell_type": "markdown",
      "metadata": {
        "id": "view-in-github",
        "colab_type": "text"
      },
      "source": [
        "<a href=\"https://colab.research.google.com/github/coolx1/DL-with-Logic/blob/main/CNNAdd.ipynb\" target=\"_parent\"><img src=\"https://colab.research.google.com/assets/colab-badge.svg\" alt=\"Open In Colab\"/></a>"
      ]
    },
    {
      "cell_type": "markdown",
      "metadata": {
        "id": "R-gCE2Wry3YI"
      },
      "source": [
        "<h3>Problem: Computing the sum of a sequence of MNIST digits<h3>\n",
        "<p>\n",
        "Example:\n",
        "<p>\n"
      ]
    },
    {
      "cell_type": "markdown",
      "metadata": {
        "id": "qaa6TgZj0cT8"
      },
      "source": [
        "![Capture.PNG](data:image/png;base64,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)"
      ]
    },
    {
      "cell_type": "markdown",
      "metadata": {
        "id": "1GuJslYf3TUc"
      },
      "source": [
        "In this set of experiments I create models and test their in-distribution and out-of-distribution(longer sequences of numbers) generalization capabilities. This work is directly inspired by the papers DeepProbLog: Neural Probabilistic Logic Programming([https://arxiv.org/abs/1805.10872](https://arxiv.org/abs/1805.10872)) and Neural Arithmetic and Logic Units([https://arxiv.org/abs/1808.00508](https://arxiv.org/abs/1808.00508)). The Models I'm going to try are as follows\n",
        "\n",
        "1.   CNN provided with the logic of addition\n",
        "2.   CNN with LSTM\n",
        "3.   CNN + custom RNN Models\n",
        "\n",
        "I create custom RNN models with some intuition so as to enable the model to extrapolate to longer sequences.\n",
        "\n"
      ]
    },
    {
      "cell_type": "code",
      "metadata": {
        "id": "gxjx_drd9lcL"
      },
      "source": [
        "import torch\n",
        "import torchvision"
      ],
      "execution_count": 1,
      "outputs": []
    },
    {
      "cell_type": "code",
      "metadata": {
        "id": "5WL7_PExgR4v"
      },
      "source": [
        "# Loading the MNIST dataset and converting the datatype of elements to pytorch tensors\n",
        "transform = torchvision.transforms.Compose([torchvision.transforms.ToTensor()])\n",
        "mnist_trainset = torchvision.datasets.MNIST(\"drive/MyDrive/MNIST\", transform = transform)\n",
        "mnist_testset = torchvision.datasets.MNIST(\"drive/MyDrive/MNIST\", train=False, transform = transform)"
      ],
      "execution_count": null,
      "outputs": []
    },
    {
      "cell_type": "code",
      "metadata": {
        "id": "X6JcHY6Bgb7U"
      },
      "source": [
        "import random\n",
        "# This function creates a dataset of a sequence of digit input and sum output from the loaded MNIST dataset.\n",
        "def create_dataset(mnist_dataset, num_samples_list, num_terms_list, is_train=1, random_seed = 111):\n",
        "  \"\"\"\n",
        "  Inputs:\n",
        "  num_terms_list is a list of sequence lengths of samples for creating the dataset. Ex: [5, 6]\n",
        "  \n",
        "  num_samples_list is a list of number of samples corresponding to each sequence length. Ex: [4000, 2000]\n",
        "  \n",
        "  if is_train is true then the unction considers it as creating the training set and the mnist images in the \n",
        "  datasets of different sequence lengths do not overlap with each other. Else, if it is the test set, overlap \n",
        "  of images between datasets of different sequence lengths is allowed\n",
        "\n",
        "  Outputs:\n",
        "\n",
        "  return_list: List of datasets of sequences of images corresponding to each sequence provided in the input\n",
        "  return_nums_list: List of datasets of sequences of numbers corresponding to those of the return_list\n",
        "  return_y_list: List of list of outputs corresponding to above datasets\n",
        "  \"\"\"\n",
        "  random.seed(random_seed)\n",
        "  def separate_dataset(mnist_dataset):\n",
        "    return_dict = {i:[] for i in range(10)}\n",
        "    for element in mnist_dataset:\n",
        "      return_dict[element[1]].append(element[0])\n",
        "    return return_dict\n",
        "\n",
        "  dataset_dict = separate_dataset(mnist_dataset)\n",
        "  if(is_train):\n",
        "    iterator = [0 for i in range(10)]\n",
        "  return_list = []\n",
        "  return_nums_list = []\n",
        "  return_y_list = []\n",
        "  for (num_terms, num_samples) in zip(num_terms_list, num_samples_list):\n",
        "    if(not(is_train)):\n",
        "      iterator = [0 for i in range(10)]\n",
        "    already_sampled = []\n",
        "    sample_list = []\n",
        "    sample_y_list = []\n",
        "    for _ in range(num_samples):\n",
        "      sample_elements = random.choices([i for i in range(10)], k=num_terms)\n",
        "      while(sample_elements in already_sampled):\n",
        "        sample_elements = random.choices([i for i in range(10)], k=num_terms)\n",
        "      already_sampled.append(sample_elements)\n",
        "      sample_y_list.append(sum(sample_elements))\n",
        "      \n",
        "      sample = []\n",
        "      for ele in sample_elements:\n",
        "        sample.append(dataset_dict[ele][iterator[ele]])\n",
        "        iterator[ele] = iterator[ele] + 1\n",
        "      sample_list.append(torch.stack(sample))\n",
        "    return_y_list.append(torch.tensor(sample_y_list))\n",
        "    return_nums_list.append(torch.tensor(already_sampled))\n",
        "    return_list.append(torch.stack(sample_list))\n",
        "  return return_list, return_nums_list, return_y_list\n"
      ],
      "execution_count": null,
      "outputs": []
    },
    {
      "cell_type": "markdown",
      "metadata": {
        "id": "_sEXyFGdZKTQ"
      },
      "source": [
        "I'm creating training and validation data sequences of lengths 5 and 6\n",
        "\n",
        "Training samples corresponding to each sequence length = 4000\n",
        "\n",
        "Validation samples corresponding to each sequence length = 800"
      ]
    },
    {
      "cell_type": "code",
      "metadata": {
        "id": "bYDxfsYx9-ZO"
      },
      "source": [
        "train_dataset_X, train_dataset_nums, train_dataset_y = create_dataset(mnist_trainset, [4000, 4000], [5, 6])\n",
        "print(train_dataset_X[0].shape, train_dataset_X[1].shape)\n",
        "print(train_dataset_nums[0].shape, train_dataset_nums[1].shape)\n",
        "print(train_dataset_y[0].shape, train_dataset_y[1].shape)\n",
        "\n",
        "torch.save(train_dataset_X[0], \"drive/MyDrive/CNNAdd/data/train_dataset_X_5.pt\")\n",
        "torch.save(train_dataset_nums[0], \"drive/MyDrive/CNNAdd/data/train_dataset_nums_5.pt\")\n",
        "torch.save(train_dataset_y[0], \"drive/MyDrive/CNNAdd/data/train_dataset_y_5.pt\")\n",
        "torch.save(train_dataset_X[1], \"drive/MyDrive/CNNAdd/data/train_dataset_X_6.pt\")\n",
        "torch.save(train_dataset_nums[1], \"drive/MyDrive/CNNAdd/data/train_dataset_nums_6.pt\")\n",
        "torch.save(train_dataset_y[1], \"drive/MyDrive/CNNAdd/data/train_dataset_y_6.pt\")\n",
        "\n",
        "test_dataset_X, test_dataset_nums, test_dataset_y = create_dataset(mnist_testset, [800, 800], [5, 6], is_train = 0, random_seed = 112)\n",
        "print(test_dataset_X[0].shape, test_dataset_X[1].shape)\n",
        "print(test_dataset_nums[0].shape, test_dataset_nums[1].shape)\n",
        "print(test_dataset_y[0].shape, test_dataset_y[1].shape)\n",
        "\n",
        "torch.save(test_dataset_X[0], \"drive/MyDrive/CNNAdd/data/test_dataset_X_5.pt\")\n",
        "torch.save(test_dataset_nums[0], \"drive/MyDrive/CNNAdd/data/test_dataset_nums_5.pt\")\n",
        "torch.save(test_dataset_y[0], \"drive/MyDrive/CNNAdd/data/test_dataset_y_5.pt\")\n",
        "torch.save(test_dataset_X[1], \"drive/MyDrive/CNNAdd/data/test_dataset_X_6.pt\")\n",
        "torch.save(test_dataset_nums[1], \"drive/MyDrive/CNNAdd/data/test_dataset_nums_6.pt\")\n",
        "torch.save(test_dataset_y[1], \"drive/MyDrive/CNNAdd/data/test_dataset_y_6.pt\")"
      ],
      "execution_count": null,
      "outputs": []
    },
    {
      "cell_type": "markdown",
      "metadata": {
        "id": "Q3-15OKBeYc1"
      },
      "source": [
        "Here I create testsets to test extrapolation to longer sequences. I create datasets corresponding to sequence lengths 7, 8, 20."
      ]
    },
    {
      "cell_type": "code",
      "metadata": {
        "id": "af7MojcXea4d"
      },
      "source": [
        "test_dataset_X, test_dataset_nums, test_dataset_y = create_dataset(mnist_testset, [800, 800, 400], [7, 8, 20], is_train=0, random_seed=113)\n",
        "print(test_dataset_X[0].shape, test_dataset_X[1].shape, test_dataset_X[2].shape)\n",
        "print(test_dataset_nums[0].shape, test_dataset_nums[1].shape, test_dataset_nums[2].shape)\n",
        "print(test_dataset_y[0].shape, test_dataset_y[1].shape, test_dataset_y[2].shape)\n",
        "torch.save(test_dataset_X[0], \"drive/MyDrive/CNNAdd/data/test_dataset_X_7.pt\")\n",
        "torch.save(test_dataset_nums[0], \"drive/MyDrive/CNNAdd/data/test_dataset_nums_7.pt\")\n",
        "torch.save(test_dataset_y[0], \"drive/MyDrive/CNNAdd/data/test_dataset_y_7.pt\")\n",
        "torch.save(test_dataset_X[1], \"drive/MyDrive/CNNAdd/data/test_dataset_X_8.pt\")\n",
        "torch.save(test_dataset_nums[1], \"drive/MyDrive/CNNAdd/data/test_dataset_nums_8.pt\")\n",
        "torch.save(test_dataset_y[1], \"drive/MyDrive/CNNAdd/data/test_dataset_y_8.pt\")\n",
        "torch.save(test_dataset_X[2], \"drive/MyDrive/CNNAdd/data/test_dataset_X_20.pt\")\n",
        "torch.save(test_dataset_nums[2], \"drive/MyDrive/CNNAdd/data/test_dataset_nums_20.pt\")\n",
        "torch.save(test_dataset_y[2], \"drive/MyDrive/CNNAdd/data/test_dataset_y_20.pt\")"
      ],
      "execution_count": null,
      "outputs": []
    },
    {
      "cell_type": "code",
      "metadata": {
        "id": "Zs5wkxkm-OqK"
      },
      "source": [
        "# Data loading from drive\n",
        "train_dataset_X_5 = torch.load(\"drive/MyDrive/CNNAdd/data/train_dataset_X_5.pt\")\n",
        "train_dataset_nums_5 = torch.load(\"drive/MyDrive/CNNAdd/data/train_dataset_nums_5.pt\")\n",
        "train_dataset_y_5 = torch.load(\"drive/MyDrive/CNNAdd/data/train_dataset_y_5.pt\")\n",
        "train_dataset_X_6 = torch.load(\"drive/MyDrive/CNNAdd/data/train_dataset_X_6.pt\")\n",
        "train_dataset_nums_6 = torch.load(\"drive/MyDrive/CNNAdd/data/train_dataset_nums_6.pt\")\n",
        "train_dataset_y_6 = torch.load(\"drive/MyDrive/CNNAdd/data/train_dataset_y_6.pt\")\n",
        "\n",
        "test_dataset_X_5 = torch.load(\"drive/MyDrive/CNNAdd/data/test_dataset_X_5.pt\")\n",
        "test_dataset_nums_5 = torch.load(\"drive/MyDrive/CNNAdd/data/test_dataset_nums_5.pt\")\n",
        "test_dataset_y_5 = torch.load(\"drive/MyDrive/CNNAdd/data/test_dataset_y_5.pt\")\n",
        "test_dataset_X_6 = torch.load(\"drive/MyDrive/CNNAdd/data/test_dataset_X_6.pt\")\n",
        "test_dataset_nums_6 = torch.load(\"drive/MyDrive/CNNAdd/data/test_dataset_nums_6.pt\")\n",
        "test_dataset_y_6 = torch.load(\"drive/MyDrive/CNNAdd/data/test_dataset_y_6.pt\")"
      ],
      "execution_count": 2,
      "outputs": []
    },
    {
      "cell_type": "code",
      "metadata": {
        "id": "mFdMiN4k-SSi"
      },
      "source": [
        "\"\"\"\n",
        "Dataset class which also normalizes the MNIST images\n",
        "\"\"\"\n",
        "from torch.utils.data import Dataset, DataLoader\n",
        "class CNNAddDataset(Dataset):\n",
        "  def __init__(self, dataset_X, dataset_nums, dataset_y):\n",
        "    self.dataset_X = dataset_X\n",
        "    self.dataset_nums = dataset_nums\n",
        "    self.dataset_y = dataset_y\n",
        "    self.normalize_fn = torchvision.transforms.Normalize((0.1307,), (0.3081, ))\n",
        "  \n",
        "  def __len__(self):\n",
        "    return len(self.dataset_y)\n",
        "\n",
        "  def __getitem__(self, idx):\n",
        "    sample = {\"X\": self.normalize_fn(self.dataset_X[idx]), \"nums\": self.dataset_nums[idx].float(), \"y\": self.dataset_y[idx].float()}\n",
        "    return sample"
      ],
      "execution_count": 3,
      "outputs": []
    },
    {
      "cell_type": "code",
      "metadata": {
        "id": "zDDmk33B-U7x"
      },
      "source": [
        "\"\"\"\n",
        "Creating train and test dataset objects for sequences of length 5 and 6\n",
        "\"\"\"\n",
        "dataset_train_5 = CNNAddDataset(train_dataset_X_5, train_dataset_nums_5, train_dataset_y_5)\n",
        "dataset_test_5 = CNNAddDataset(test_dataset_X_5, test_dataset_nums_5, test_dataset_y_5)\n",
        "dataset_train_6 = CNNAddDataset(train_dataset_X_6, train_dataset_nums_6, train_dataset_y_6)\n",
        "dataset_test_6 = CNNAddDataset(test_dataset_X_6, test_dataset_nums_6, test_dataset_y_6)"
      ],
      "execution_count": 4,
      "outputs": []
    },
    {
      "cell_type": "code",
      "metadata": {
        "id": "WSdKfuEam-iM"
      },
      "source": [
        "# Loading the extrapolation test sets\n",
        "test_dataset_X_7 = torch.load(\"drive/MyDrive/CNNAdd/data/test_dataset_X_7.pt\")\n",
        "test_dataset_nums_7 = torch.load(\"drive/MyDrive/CNNAdd/data/test_dataset_nums_7.pt\")\n",
        "test_dataset_y_7 = torch.load(\"drive/MyDrive/CNNAdd/data/test_dataset_y_7.pt\")\n",
        "\n",
        "test_dataset_X_8 = torch.load(\"drive/MyDrive/CNNAdd/data/test_dataset_X_8.pt\")\n",
        "test_dataset_nums_8 = torch.load(\"drive/MyDrive/CNNAdd/data/test_dataset_nums_8.pt\")\n",
        "test_dataset_y_8 = torch.load(\"drive/MyDrive/CNNAdd/data/test_dataset_y_8.pt\")\n",
        "\n",
        "test_dataset_X_20 = torch.load(\"drive/MyDrive/CNNAdd/data/test_dataset_X_20.pt\")\n",
        "test_dataset_nums_20 = torch.load(\"drive/MyDrive/CNNAdd/data/test_dataset_nums_20.pt\")\n",
        "test_dataset_y_20 = torch.load(\"drive/MyDrive/CNNAdd/data/test_dataset_y_20.pt\")\n",
        "\n",
        "dataset_test_7 = CNNAddDataset(test_dataset_X_7, test_dataset_nums_7, test_dataset_y_7)\n",
        "dataset_test_8 = CNNAddDataset(test_dataset_X_8, test_dataset_nums_8, test_dataset_y_8)\n",
        "dataset_test_20 = CNNAddDataset(test_dataset_X_20, test_dataset_nums_20, test_dataset_y_20)\n",
        "\n",
        "BATCH_SIZE_TEST = 32\n",
        "dataloader_test_7 = DataLoader(dataset_test_7, batch_size = BATCH_SIZE_TEST, num_workers = 2)\n",
        "dataloader_test_8 = DataLoader(dataset_test_8, batch_size = BATCH_SIZE_TEST, num_workers = 2)\n",
        "dataloader_test_20 = DataLoader(dataset_test_20, batch_size = BATCH_SIZE_TEST, num_workers = 2)"
      ],
      "execution_count": 5,
      "outputs": []
    },
    {
      "cell_type": "code",
      "metadata": {
        "colab": {
          "base_uri": "https://localhost:8080/"
        },
        "id": "G8AmiyT03Btu",
        "outputId": "0269f90c-f926-4870-f975-c3c2dc70aa50"
      },
      "source": [
        "from google.colab import drive\n",
        "drive.mount('/content/drive')"
      ],
      "execution_count": 3,
      "outputs": [
        {
          "output_type": "stream",
          "name": "stdout",
          "text": [
            "Mounted at /content/drive\n"
          ]
        }
      ]
    },
    {
      "cell_type": "code",
      "metadata": {
        "id": "f7_ohLq2-XUK"
      },
      "source": [
        "from torch import nn\n",
        "import torch.nn.functional as F"
      ],
      "execution_count": 6,
      "outputs": []
    },
    {
      "cell_type": "markdown",
      "metadata": {
        "id": "0PTAx8AH2tQg"
      },
      "source": [
        "<h2> Model1: ConvNet with addition logic provided<h2>\n",
        "\n",
        "In this model, the convnet effectively only needs to learn to recognize the mnist images as the addition is taken care of by the logic. Model Diagram:\n",
        "\n",
        "![1.PNG](data:image/png;base64,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)"
      ]
    },
    {
      "cell_type": "code",
      "metadata": {
        "id": "NRP-DhDZWtoa"
      },
      "source": [
        "\"\"\"\n",
        "Conv Net with the logic of addition provided\n",
        "\"\"\"\n",
        "class ConvNetWithAdd(nn.Module):\n",
        "\n",
        "  def __init__(self):\n",
        "    super(ConvNetWithAdd, self).__init__()\n",
        "    self.conv1 = nn.Conv2d(1,32,3,1)\n",
        "    self.conv2 = nn.Conv2d(32,64,3,1)\n",
        "    self.dropout1 = nn.Dropout2d(0.25)\n",
        "    self.fc1 = nn.Linear(9216, 128)\n",
        "    self.fc2 = nn.Linear(128, 1)\n",
        "\n",
        "  def forward(self, x):\n",
        "    x_shape = x.shape\n",
        "    x = torch.reshape(x, (x_shape[0]*x_shape[1], x_shape[2], x_shape[3], x_shape[4]))\n",
        "    x = self.conv1(x)\n",
        "    x = F.relu(x)\n",
        "    x = self.conv2(x)\n",
        "    x = F.relu(x)\n",
        "    x = F.max_pool2d(x, 2)\n",
        "    x = self.dropout1(x)\n",
        "    x = torch.flatten(x, 1)\n",
        "    x = self.fc1(x)\n",
        "    x = F.relu(x)\n",
        "    x = self.fc2(x)\n",
        "    x = F.relu(x)\n",
        "    x = torch.reshape(x, (x_shape[0], x_shape[1]))\n",
        "    return torch.sum(x, 1) # Addition of CNN outputs"
      ],
      "execution_count": null,
      "outputs": []
    },
    {
      "cell_type": "markdown",
      "metadata": {
        "id": "rCZ7hVW3e63E"
      },
      "source": [
        "This is the function to train the various models I create. This function trains the models simultaneously on both sequences of lengths 5 and 6. Plots the loss curves and Mean Absolute Error curves for both training and validation sets "
      ]
    },
    {
      "cell_type": "code",
      "metadata": {
        "id": "oS_L7fTl-3cb"
      },
      "source": [
        "\"\"\"\n",
        "function for training the various models I create.\n",
        "\"\"\"\n",
        "def train_model(model_input = \"X\"):\n",
        "  #Lists for plotting graphs\n",
        "  step = 0\n",
        "  train_step_list = []\n",
        "  val_step_list = []\n",
        "  train_loss_5_list = []\n",
        "  val_loss_5_list = []\n",
        "  train_mae_5_list = []\n",
        "  val_mae_5_list = []\n",
        "  train_loss_6_list = []\n",
        "  val_loss_6_list = []\n",
        "  train_mae_6_list = []\n",
        "  val_mae_6_list = []\n",
        "  train_total_loss_list = []\n",
        "  val_total_loss_list = []\n",
        "  MIN_VAL_TOTAL_LOSS = 1e10\n",
        "\n",
        "  for epoch in range(NUM_EPOCHS):\n",
        "    print('Training:', file = out_file)\n",
        "    print(\"Epoch: \", epoch, file = out_file)\n",
        "    model.train()\n",
        "    for i, (batch1, batch2) in enumerate(zip(dataloader_train_5, dataloader_train_6)):\n",
        "      X_5 = batch1[model_input].cuda(device= device); X_6 = batch2[model_input].cuda(device = device)\n",
        "      y_5 = batch1[\"y\"].cuda(device = device); y_6 = batch2[\"y\"].cuda(device = device)\n",
        "      X_5_out = model(X_5); X_6_out = model(X_6)\n",
        "      loss_5 = mse_loss(X_5_out, y_5); loss_6 = mse_loss(X_6_out, y_6)\n",
        "      total_loss = (loss_5 + loss_6)/2.0\n",
        "      if(i%TRAIN_LOSS_RECORD_STEPS == 0):\n",
        "        train_step_list.append(step)\n",
        "        train_loss_5_list.append(loss_5.item())\n",
        "        train_loss_6_list.append(loss_6.item())\n",
        "        train_total_loss_list.append(total_loss.item())\n",
        "        print(\"Train Loss 5: \", loss_5.item(), file = out_file)\n",
        "        print(\"Train Loss 6: \", loss_6.item(), file = out_file)\n",
        "        print(\"Train Total Loss: \", total_loss.item(), file = out_file)\n",
        "\n",
        "        train_5_mae = mean_absolute_error(X_5_out, y_5); train_6_mae = mean_absolute_error(X_6_out, y_6)\n",
        "        train_mae_5_list.append(train_5_mae.item()); train_mae_6_list.append(train_6_mae.item())\n",
        "        print(\"Train MAE 5:\", train_5_mae.item(), file = out_file)\n",
        "        print(\"Train MAE 6:\", train_6_mae.item(), file = out_file)\n",
        "      total_loss.backward()\n",
        "      optimizer.step()\n",
        "      optimizer.zero_grad()\n",
        "      step+=1\n",
        "  \n",
        "    print(\"Model Evaluation:\", file = out_file)\n",
        "    val_loss5_sum = 0; val_loss6_sum = 0\n",
        "    val_total_loss_sum = 0\n",
        "    val_mae5_sum = 0; val_mae6_sum = 0\n",
        "    num_batches = len(dataloader_test_5)\n",
        "    model.eval()\n",
        "    for i, (batch1, batch2) in enumerate(zip(dataloader_test_5, dataloader_test_6)):\n",
        "      X_5 = batch1[model_input].cuda(device= device); X_6 = batch2[model_input].cuda(device = device)\n",
        "      y_5 = batch1[\"y\"].cuda(device = device); y_6 = batch2[\"y\"].cuda(device = device)\n",
        "      X_5_out = model(X_5); X_6_out = model(X_6)\n",
        "      loss_5 = mse_loss(X_5_out, y_5); loss_6 = mse_loss(X_6_out, y_6)\n",
        "      total_loss = (loss_5 + loss_6)/2.0\n",
        "      val_5_mae = mean_absolute_error(X_5_out, y_5); val_6_mae = mean_absolute_error(X_6_out, y_6)\n",
        "    \n",
        "      val_loss5_sum += loss_5.item(); val_loss6_sum += loss_6.item()\n",
        "      val_total_loss_sum += total_loss.item()\n",
        "      val_mae5_sum += val_5_mae.item(); val_mae6_sum += val_6_mae.item()\n",
        "\n",
        "    current_val_total_loss = val_total_loss_sum/num_batches\n",
        "    current_val_loss5 = val_loss5_sum/num_batches\n",
        "    current_val_loss6 = val_loss6_sum/num_batches\n",
        "    current_val_mae5 = val_mae5_sum/num_batches\n",
        "    current_val_mae6 = val_mae6_sum/num_batches\n",
        "    print(\"Validation loss 5 at epoch: \", epoch, \" : \", current_val_loss5, file = out_file)\n",
        "    print(\"Validation loss 6 at epoch: \", epoch, \" : \", current_val_loss6, file = out_file)\n",
        "    print(\"Validation total loss at epoch: \", epoch, \" : \", current_val_total_loss, file = out_file)\n",
        "    print(\"Validation mae 5 at epoch: \", epoch, \" : \", current_val_mae5, file = out_file)\n",
        "    print(\"Validation mae 6 at epoch: \", epoch, \" : \", current_val_mae6, file = out_file)\n",
        "\n",
        "    if(current_val_total_loss < MIN_VAL_TOTAL_LOSS):\n",
        "      print(\"Current val total loss < min val total loss. Saving model..\", file = out_file)\n",
        "      torch.save(model.state_dict(), model_save_folder+best_model_name)\n",
        "      print(\"Model Saved!\", file = out_file)\n",
        "      MIN_VAL_TOTAL_LOSS = current_val_total_loss\n",
        "  \n",
        "    val_step_list.append(step)\n",
        "    val_loss_5_list.append(current_val_loss5); val_loss_6_list.append(current_val_loss6)\n",
        "    val_total_loss_list.append(current_val_total_loss)\n",
        "    val_mae_5_list.append(current_val_mae5); val_mae_6_list.append(current_val_mae6)\n",
        "  out_file.close()\n",
        "\n",
        "  # Plotting graphs\n",
        "  import matplotlib.pyplot as plt\n",
        "\n",
        "  def plot_graph(train_step_list, train_loss_list, val_step_list, val_loss_list, train_loss_label, val_loss_label, save_path):\n",
        "    plt.plot(train_step_list, train_loss_list, color = \"blue\", label = train_loss_label)\n",
        "    plt.plot(val_step_list, val_loss_list, color = \"red\", label = val_loss_label)\n",
        "    plt.legend()\n",
        "    plt.savefig(save_path)\n",
        "    plt.close()\n",
        "\n",
        "  plot_graph(train_step_list, train_loss_5_list, val_step_list, val_loss_5_list, \"train loss 5\", \"val loss 5\", graph_save_folder+loss_5_graph_name)\n",
        "  plot_graph(train_step_list, train_loss_6_list, val_step_list, val_loss_6_list, \"train loss 6\", \"val loss 6\", graph_save_folder+loss_6_graph_name)\n",
        "  plot_graph(train_step_list, train_total_loss_list, val_step_list, val_total_loss_list, \"train total loss\", \"val total loss\", graph_save_folder+total_loss_graph_name)\n",
        "  plot_graph(train_step_list, train_mae_5_list, val_step_list, val_mae_5_list, \"train mae 5\", \"val mae 5\", graph_save_folder+mae_5_graph_name)\n",
        "  plot_graph(train_step_list, train_mae_6_list, val_step_list, val_mae_6_list, \"train mae 6\", \"val mae6\", graph_save_folder+mae_6_graph_name)\n"
      ],
      "execution_count": 7,
      "outputs": []
    },
    {
      "cell_type": "code",
      "metadata": {
        "id": "W11EiWe3Y8sJ"
      },
      "source": [
        "\"\"\"\n",
        "Hyperparameters to train the CNN with Add Logic Model\n",
        "BATCH SIZE = 32\n",
        "NUMBER OF EPOCHS = 70\n",
        "LEARNING RATE = 1e-3\n",
        "optimizer = Adam\n",
        "Loss Function = Mean squared error\n",
        "\"\"\"\n",
        "BATCH_SIZE = 32\n",
        "NUM_EPOCHS = 70\n",
        "LEARNING_RATE = 1e-3\n",
        "TRAIN_LOSS_RECORD_STEPS  = 25\n",
        "SHUFFLE = True\n",
        "NUM_WORKERS = 2\n",
        "model_save_folder = \"drive/MyDrive/CNNAdd/saved_models/\"\n",
        "graph_save_folder = \"drive/MyDrive/CNNAdd/graphs/\"\n",
        "best_model_name = \"CNNAddBest.bin\"\n",
        "total_loss_graph_name = \"total_loss.png\"\n",
        "loss_5_graph_name = \"loss_5.png\"\n",
        "loss_6_graph_name = \"loss_6.png\"\n",
        "mae_5_graph_name = \"mae_5.png\"\n",
        "mae_6_graph_name = \"mae_6.png\"\n",
        "out_file = open(\"drive/MyDrive/CNNAdd/terminal_output/CNNTraining.txt\", \"w\")\n",
        "model = ConvNetWithAdd()\n",
        "device = torch.device(\"cuda\")\n",
        "model.to(device= device)\n",
        "optimizer = torch.optim.Adam(model.parameters(), lr = LEARNING_RATE)\n",
        "mse_loss = nn.MSELoss(reduction=\"mean\")\n",
        "mean_absolute_error = nn.L1Loss(reduction = \"mean\")\n",
        "\n",
        "print(\"PARAMETERS:\\n LEARNING RATE: \", LEARNING_RATE, \"\\nBATCH SIZE: \", BATCH_SIZE, \"\\nEPOCHS: \",NUM_EPOCHS,\"\\nTRAIN LOSS RECORD STEPS\",TRAIN_LOSS_RECORD_STEPS, file = out_file)\n",
        "\n",
        "dataloader_train_5 = DataLoader(dataset_train_5, batch_size = BATCH_SIZE, shuffle = SHUFFLE, num_workers = NUM_WORKERS)\n",
        "dataloader_test_5 = DataLoader(dataset_test_5, batch_size = BATCH_SIZE, shuffle = SHUFFLE, num_workers = NUM_WORKERS)\n",
        "dataloader_train_6 = DataLoader(dataset_train_6, batch_size = BATCH_SIZE, shuffle = SHUFFLE, num_workers = NUM_WORKERS)\n",
        "dataloader_test_6 = DataLoader(dataset_test_6, batch_size = BATCH_SIZE, shuffle = SHUFFLE, num_workers = NUM_WORKERS)\n",
        "\n",
        "train_model()"
      ],
      "execution_count": null,
      "outputs": []
    },
    {
      "cell_type": "markdown",
      "metadata": {
        "id": "sOPpshseFrN6"
      },
      "source": [
        "<h2>Model2<h2>\n",
        "\n",
        "CNN + LSTM model. The CNN outputs of images are fed sequentially to the LSTM Model. The LSTM model has to learn to add the numbers. Model Diagram\n",
        "\n",
        "![2.PNG](data:image/png;base64,iVBORw0KGgoAAAANSUhEUgAAAmgAAAGPCAYAAADoRizuAAAAAXNSR0IArs4c6QAAAARnQU1BAACxjwv8YQUAAAAJcEhZcwAADsMAAA7DAcdvqGQAAHOKSURBVHhe7Z0LmF1Veb+n/97vN6vTVm203ooX1NqijpcaLbWixVZ0KgSEhmuRkSAYFIVMmiAmSGE0CoikHcBYlcCAikAcDRhtHK5iMlCUEMYaGoc0tlasVtd/3jX7O7Nmz97nNufss/Y5v/d5vufcz9lnfftb67e+ddl9TgghhBBCRIUEmhBCCCFEZEigCSGEEEJEhgSaEEIIIURkSKAJIYQQQkSGBJoQQgghRGRIoAkhhBBCRIYEmhBCCCFEZEigCSGEEEJEhgSaEEIIIURk5Aq0P/iDP3B//Md/7P7kT/7EveAFL+iYcQxm9vhpT3vagvfVshe96EXuGc94RvLvuoOnPOUp3rL+b6ftOc95TsVvBx10kH/OfJhlvIaPuH3sYx+b/MPu4DGPeYw74IADKmVRrRyKMo6B2Ob26U9/euXYst6bZ0996lOTf9gdEEvmpxe+8IWZ/7lIM59wa/GU9b5qxmee+MQnJv+wO3jc4x7nnvWsZ2X+305b6Kt6672XvvSl/n631Xti8eQKNE6cWIn52Iom1rK47bbbknsCFE/lQPFUDmIuD/lKtIpSCjR6G2KWWMtCldR8yFbFCtkiMcuf/umfJvfiYmJiIrkn4Pbbb0/uxYd8JVpFrkA7/vjjk3vxEfOxFU2sZXHfffcl9wScdNJJyb34UDzNEWtZ/Nu//VtyT0DM9Yt8JVqFFgkIIYQQQkSGBJoQQgghRGTkCrTVq1e7d77znW7v3r3JM53hBz/4gXvve9/r759xxhnuO9/5jhsbG3Of//zn3QknnOCuv/56/1qv8ZOf/MS9+93vdhdccIE75phjOu4n+NznPudvOaYrr7zSffazn60MGZ1//vn+ttfATytXrvTx9I53vKPjfvrWt77l4+lf//Vf3RFHHOGPx+IJX1133XXJO3sL/HTWWWf5c/fYY491P/zhD5NXOkNY71k84Sd8ND4+3tP13imnnOLrkxjqPeLpvPPOc9u3b6/E04UXXuhfw1ePPPKIvy9EM1TNoO3evdutW7cuedR57rnnHl85sc3G//7v/7pvf/vb7pnPfGbyam/x5S9/2X3ta1/z988991xvMbFmzRq/rQk+Amtseg38dPDBB/v7Dz74oK/MY2FwcNDddNNN7sADD6zEE7HViyBY77rrLn+fWHrooYf8/VggfvANPsJXvVzvveY1r/H3Y6v33vjGN7otW7ZUjglfffWrX/X3hWiGqgLt4YcfdieffHLyqPOcc845vmcZ7hfz67/+68m93uKTn/ykm5yc9PevuOKKqPy0a9cud9VVV7nf+q3fSp5x/nEvcvXVV7vly5f7+zHF03//93/7fb+IpzCGfuM3fiO511sQT/fee6+/Pzo6GtVEb+KJDJrqvVk/MXICMdV7xBN7hxJPX/rSl5Jnnbv11luTe0I0TlWBRvqWYc5O8+Mf/9h99KMfdXfccYd//Pu///vu//7v/3xQdGuPn+FBhsVseCPNjTfe6L7+9a/7+x/84Afdu971Ln+/kzD8gJ+OPvpo/xg/4SOIKXPUKvi/b3vb2/x/O+qoozKHW+hR07MG4unss8/29zsJ8bRq1Sp//EDDYvHUbZuaGvjJhpmZJpHm5ptvnhdPDzzwgL/fSazeY8gVLJ7wVTfWe5yP1GPUeQwXZg0zU+9ZPMVS7+GnMK7f9773+Vt8RcZPiGbJFWhUUB/60Ifcjh07kmc6B40fFazBnB6Gixh+PfPMM5Nnu4tQ0GSJmx/96EdueHjYD3ewc3UMfrrmmmvcqaeemjyanTNoQ5tkP7sNhsVs+JJhjaxhXPz05Cc/2ccTDcrOnTuTVzoDjeCRRx45L0N0+umn++kMHD+x1W1897vfrfiJocusYTH8hGi1ePqf//mf5JXOkVXv4SN81Y31HmLm7rvv9vfxEf8zDX4i8zs9PR1FvWfxdP/99yfPzNV1+Oqb3/ymvy9EM+QKtJ/7uZ9zfX193v7f//t/HbOf/dmfdT/90z9deWzH9DM/8zOV++Hj8LOh8Vo45BY7YWOf1fAD5RL+91/91V/1t9hP/dRPZZZDq41jsOPgMbecO/jNjgX75V/+5cp7sozX7H8gaMoAwy02fMmwWN5wyy/+4i9WygFjeIrbrHJotXEe2O/a+UE58xq3+Ornf/7n/fO/8Au/4G9/6Zd+yb9uscdz4Xea/cqv/EryD+OGzKYNizHMHIqeEP6TlU9Y53TCwnqPW/Mj/gp9ajGT/rwZr/3e7/1e8g/jJhxmZtQgb5jZzlf7752o9+z3mRLA/bC+s7oufJz1HRivW/1QlnpPFEeuQOPksYoqPNmKNgKO47BbjodbLN2AWOBmGe9jiKAs5GXQmOPALv0M91qZ8P9oVMOyKspvlDu/xS2/az7gsfnHjqfaMfEePsP9slx6iAn2TLSHrOEWNtNkx3P+m5WF+ctu221W/nZecJ7wPPfDxt5ueQ4/8P7Qd/Z9oZWl4WclXTjMzOpn49///d99PGH2f/FV2OB2wjgO8xkNuD3mGBup93hvmeLJMmJZw8zEE/Ue/8v+f6fqPTtXMKu3eM7MjsXqwfTnzezz3OqSayJNrkCzk4eTLH1SFWkEHrfWK7HHGCc2AUoAcN8yAFnG58o0v+aiiy7yFRRDLqyIzMIqBvvf/Eees4oh/P/tMn6rv7+/8th+l3PHnqOBSfcq08ax2/8oS0UVDre85CUvqcxhSmP/0XxjjYo9304LzweLHco5jGuOh9fIRPC8vWbZAftc2soi0BiG+qM/+iMfTx/+8Idz/YQ45X/xf8Py6YRZmYeZZ3uNc6feeg972ctelvzDuCGe/uEf/qEyzPy9730veWU+4XnMLY/D8zz87+0yOz/4PQQyj00o4zPLitWK8/C/SKCJNLkCLTwBO2nhSWzDMdUqz6zvwKjMypRBo9F/6lOf6tPezLfLgv8b9s6snDAqhqxyaLXZ79nv2zFYZRUen1WgWRa+p0wV1Wc+8xnf+OeJaLCysP+Z/u/ttLCBCM8P85U1cqGA5nP4jePmNu9cevzjH5/8w/jBT8TTm970puSZhVC/2PlKuWT956LMfMQtQ8nERTP1Hq/Fen3RLIaGhtyzn/3sqvFk/9f+e3heF1nvWcyEsRP6yM4lpjRkfQdm7+W4JdBEmlyBVksIFWUcAycvQWiNDc9x8nOCcx+zxiT9eTM+WyaBVg80KPz3sBysnLifVQ6tNn6b36PHaMfAY8wqTt6Db8KKNG18nvdhMV9YvBmsjIr2DWb+4LfNP1bOvM4t55EdF8KE+2a8Zu9NW1kyaPXC/6QMKKu8/1yUhX7jsfnH4oj7WK16j//RbQ2/nbPmL6zo2OK3+H1usTCbZ20Tj2sdjw1f875uq/fE4qk6xNlt1m0NStZ/7AbrtgYl6z+GZpU5RmVtz9n9WoLB3mcWNgrha+n3Lda6MZ7a0cBT7ia07DG31X6L92SdF1lWy6+9Fk9ZFsZTnpmPwveF90N/4Dt7bLdpf9b6vbQpgybSSKCVmKz/2A2mBqW6pSv+Wo/N6mmkGjEJtOIsFAeNmuKpPjPfU9Z5Yq1a/PCa/CRaiQRaicn6j91gvdigWOWf1wjkPZ9n6fc38tl6TQKtMaPxNgv9Y426vcb9Wv5qxJ+9LtCsrENLv47fw+ftfvr99tjM/NUKk0ATaSTQSkzWf+wG67aKyhrkrP+K0ThkNdIYn7PefPq1vPeGIsN+l/fZ/XC4bTEmgVafmY9CX9nCkbQv8FHoq3DuZvj5RqzXBZpZumzDx7bqksehT+w99tjMnrP3crvYc0cCTaSRQCsxWf+xG6wbBVr6P/Icxgq9Jz3pSX6FIbdsL8Bk4Re+8IXuxS9+sb8wNJvhLlu2zL361a92S5cudS996UvdwMCA3z6B+2zxwWPez+ee9axnucc97nGVbTOyfjv9XDMmgVafmSBAlOGTJzzhCe6Vr3yle/nLX+6vcMDKUnz85je/2fsXXz7/+c/3F7HnfOBSXOHE87TZ9+dZrwk0yqlWmYSGuGK1/JIlS3wMveENb3Bvectb/CW2jjvuOHf88ce7v/u7v/OPjznmGO8nVpryfuKW7Zu4z3ZDbIZuE/+zfquaSaCJNBJoJSbrP3aDdXuDQgNCg4s4e/rTn+4OP/xw3whwDdO3v/3t/lqEXGbt0ksv9dceZCd89vBiq4hNmza5yy+/3L922WWXVYzH7PH1gQ98wL3nPe/xG7MiANgKgxVmmK3WbKbxyDIJtPrMypvtFhDhf/VXf+V9hd+uvfZaf3mj/fv3+53zr7rqKu9LNj0+66yz/OXS8CUi4Dd/8ze9H8MMD1ZLcPeiQAsf41POfYQT+8dxixF/v/Zrv+Z+93d/1x166KG+E8QGuXfeeaf7z//8T38t0O9///v+sl9cV5P7+Iltj7hGNe9HyOEfNqz+y7/8Sy/wTFCHx1CPSaCJNG0VaFk9GQue8HnuE0Dp96TvY1aB8jzGYz7P/fRvpU0CrT7LawDsNu07W2Kefk/Y2NXyTWjd2KBYudhQCL1thBkX7/785z/vG4UvfelLfqd0xNg3vvENfx2///iP//ANA5t2cpkiriVJA8FrvI/7dsu1CycnJ/1u7Lfccov7whe+4D7ykY/4izeTofnzP/9zn1l77GMf64/BjglrxD9mEmj1G+VLueNzLt3GtRvx4be//W3f6LM563/91395/+JPNtPF7rnnHr/DPpc+Oumkk3zmjQxc1m/kWa8JNPMhbQqGAEM4kQHjcmxvfetb/e0pp5ziTjvtNH8N1htuuMFfW5f4QYxxAXQ2zuUWuEC9PYdgu+uuu/z7sa9+9avu1ltv9d/xz//8z/77yZTaBt7p2OJxVrxJoIk0bRFoVPxh5Y8RNBgBY42DvYeTtZkeB8LAviP9e1kmgdYaswoQn+E7m78RVjrcD32SVSHlWTc2KHZ+W5mQ2eKC0DS8bEoMNAJAQ8B9GgN2wTe4j/E6ZvftcyGIOozGfnx83I2MjPgsnQ3lIBSb9Y+ZBFp9Rtnif7JnXJiea06ab0MRACYEuCWDA4g3xDfZUTI2T3va0/x3Wj2a7lClrdcEmp3LlA1ZS8rrsMMOcxdffLH76Ec/WrGNGze6K664wmemw6sWPProo77sLb6A+wa+Md+Z//ARQhuBh5/IjJNJszhLW/qYMQk0kSaKIU5OWBqOZzzjGd4OOOCAyhwcUs9HHnmkTyEz9k8amXkbXIYmL9OTZxJo1Y0K3xooyhYBjPiirJ/5zGf6eRd/8Rd/4V7/+tf7Cg9j/gzPsZs+PUY+34zYDq0bGxSbFG7nKHNXaCTodTOcQoVvjbNBI0FWhSFOrhm5Z88en1Ejk/ad73zH35I5Y2hsamrKZ2MwBB8NB/BZMmoMlf7jP/6jn9eErzieUJRJoM36qR0CzYxGm+Frsi1gvkZI4zN8ixDDdu3a5bNs+BVfcz3RzZs3u/PPP9+94AUvyPz+POs1gWaxhtGWMI+MzhAZ5a1bt/rsMrf44ctf/rK/DitZM2KGGMQA//CciTFEGLfEJbdmJqYRdlzr9XOf+5y/IP8RRxzhnve85/mhVI6FGKvWRkmgiTRty6BxMmLW6FsDQONN4x/a7/zO77i//du/9fNvzjzzTD/3YsOGDb4Bu/fee33wUIFRUZFSJtCYCE02ju+1ITYJtNaZCS2GxJiozPAKQwFbtmzxjQc9Tvzy3e9+1z/HNfQQauFlT5q1bmxQbAjfBABlSuOAeKIMKcvQ9u3b58UW85Nuvvlm38un4kfQffazn/X3x8bGfAaOuUyf+tSn/HN858TEhBd2NCw0KjQg3H7ta1/zHZ1XvepVlUbDzOKzEZNAq98oXy659OlPf9r7Fcw3iDCGt4kj/PiJT3zCXXPNNV6QYdu2bfP1H8PgnAt0Uq3O43tr+a7XBBpmfmR+GG0IHRmGJhFRZj/4wQ+8WcaMOo1bzLJixJAZvuIWuM97MO7bYwQbgpsO1fbt232n6EUvetG8NjDPJNBEmrYINBNhacHECfrbv/3bPlt20EEHuUMOOcTPySDtf91117nbb7/dj+3TwNx3331+jgYNDVhPxbIJTLJlkiZj/fbd4W9lmQRabbOKn7LCR8zTYGgAYYxvKH8qNKuM8AkNDq8xXMAwGnOd8H/6u+u1bmxQ0uXBvBhWhDEXht49ApeOCZ2UFStW+HksJ5xwghdUrOxjwj/CivsY91/xilf4LDMNAI+xv/7rv/bzzfAXGRlrOIDePfOf+H5Wm4XHU0/8pE0CrTF77nOf666//vqKQCOOEA4MtVGXsWKXVbn4mrlm2Gtf+1qfNWNuGplS6j7OE/xuCwdqHXOvCTTOZSsTYoJODFmzUGxhxAVijMw0HZ9/+Zd/8fPJeGxCDOy+vR+rBu9H+JEJpWPFKAOXGUx3itImgSbSFLZIgPuknhFnVC40PEyQJuVPpUVQ0POg0ScAOMlpXOw+z2P0augJcfKz4sYamlrZM0wCrbbZ8CTDmTT0zJehB0qFgz/wgfnGzHzDpGZWH7Ik3YReM9ZtFZWdm2EssJrMhvVNaDEcwzylP/zDP/QTwTlfQyFlnR6+h1trhHhs343/+DzZNTIzdHAQAvgMgYYYGB4e9llr+177jvBxPSaBVp/xnfiOaRsMNSOcgXqMxSBkppknZdln3o8/eMy0AbLXvI86kmFtYsyGz+jwpn8vbb0m0Mwoc+KKTgnxQFti9RW3PKbNIRHw/ve/36+Y/fjHP+7rO7Jpll3DT7w/hO/g82mzrCjxxneQAT/11FP9iE8Yy1ntlQSaSFNVoFnFkj6R0hZW7jQQ9OqY68LYP0OWBMiaNWvceeed57cIoKdCz4J5AGTLqHyYzMzQGal866lwott9bgkKbq13wmTMxzzmMZWhzlqNTKwNChXCV77yleTR7Nwjyybyn/NoplGtZiYcmHNGVvNjH/uY9w2NAkNuzIPBX/iOSeeXXHKJH5rhPRwzvXsmpLPNA42LHV+jxxljRUUlzX+lhw1UwFS+ZKosI5JHuhyIKe6T/WWZP+clK/x4bGbbAdjQaPj5sDy5jxF33CLOGGrmuBg6xS/ALROYaezJXBOj1b63Hos1nsi+8/8N/GMZYPyWB//JyjP9X1th7G+HQLM6DvHMEDcrCfEHPiQGMc4B9rn7m7/5Gz9MRuaaoW/8uHPnTv89ZF5ZNBD6MstijSfqPIsn/hf+od6rVucB/6mWj8yPLMahDMlWI8DYHgNjGxPaJp478cQTfRaaDhJboJDFpo0i63bhhRf6JAJTB+jgcNz4gbbJDF9ap9Vu+T8INNq1lStXenFOjNvxmQgPj1kCTaTJFWg0DrWCgIaGE82MDBkNM5NhmUhOA0/AUbmQyidNb5ObLQhpRGy8/otf/KJv9EwMEAz0YHivnfQEA89bT5KhIiq0WseKxdqgIFTJahgIHAQowpYsYx5WmWf912aNHjsLApgLg2Cm7FmdxPwlKlTmBXJ8zIPBxwy/MEcG/+AzGkcqNERe+L34p95jjbGi4jzlXCazCIhS/jusXr3a3+aR9R8XY5Rl+nwn7sha0tAgrok1IF6ArA2TosnWkXkJM5zml3piKLSY4+mcc85JHrnKfeKJbEkelj3GWh1XGOc18wQRaMQL2RviiiHnUGRZHcq+eGvXrvXDb3RKAX9SDxKX+JNOb3q4Om0xxhN1CvFEXQMIJbJY1DnV6jzIEjdp4z34kA4Qv4GxqpIMNZlrjPs8xzxb4gH/k1kmucAkf7anYZoHHR4yz9R/tE34z7LSZoBv8CsGtqrz7LPP9psPIxbtvMo6vyTQRJqqGTSCgBM8fSKFZsFCg8xwDasuGXpEnDFnAkFG5cKJTSNHxULPgpOa++wBRQVKto35aMy9IdtGcBCwTIylp8l38H4gOAhuRI0JgXoal1gbFKAiNhjuIFWOCGXFXR5Z/3ExRjaSDAsVCvsv0cizkoz5gbbTOfNiGDaggrPl6+z9gzhDiDMMw6R1Vina9huNWqwVFY0HO7wDHQrLnJHJqEbWf2yFEXtk2GjcmavEsNe6dev8RHJWhtJQ0Gjgl3/6p3/ysUUMsPVAmBlvVozEHE+hTxAxYJm0PMLVf42K1XqM1ZehQKMeQ+gz/5AhMOKPIUsyZ8QgiwXI3CAqqf+oE6gDMUQaCw6GhoYWDFenLeZ4MoFGPYd/+I/UK9XI+o95xjlqnRLaMsQvc8G4xchUI87M34g0Xuf9iCo+j5BjHhntFPsU0q4hro1QoJlgw79kOmkL6cwizvg9O66s80sCTaTJFWicQFT+tSpvG14kk8UkV4QVgYZRiWCcrHYfcYbwoPFnaA8xxrAMlRNpfSZT0vgzEfp1r3ud32kbcUdamYqJigoxwPN///d/7ysnjrGeRqYsDQo9YiDQKZcQRC6T9hlepNzrGYKu1/AhO5kzlIcoRmzRoNBYILYQBPZeOz/wFUMFNDSIcfzEbve2vDyrIqplMTcolkFj+MOgM5IF817wU9Z/bMYoS+sQUfY0LsQMQzPr16/3WU+GiWg8rLGwYWkmoZMt4HP2XeH32v1GLOZ4Cjs8tq0FhPeBLRYsnoglGyputkyqmQk04sQyYdRtV1xxhZ+3yeIaMjYIaTqgxCDvo97DlybSEN+INoQniwrKOMQJjKqQrQLqcYOhwCzoKOIny45l/Vcs9B17/tGO0LGy2Ekb38Ut70ekY7RDjCYgrDAWeJDRJItmc3JNiFkbh5+4pY5GxBGPDJnyeTue0Ow3zSTQRJpcgUblH6b8axkVBRUdjTs9Q8wqF24BccaCABp8Vq8xREYqn4Dg9wggGnWyYswLQOwx8RxodPhOhkMZRuPEp8Gx369HpMXcoPBfDSaIE+iIHSqKPNIBvlhDoCE2yGrSy2eSOQ0/S9V53eZO2fs5P/ABcyxsQjrCnOEAsqn41N7biJWhx09mA/8AWatqZP3HZoyyp7dPnHCO0KDTsF900UW+wbYsNecOsUZjjj/pyFgGIet7m7WyxJP5B38xHJ9HmOEIs2mtMuagIdDIaIKJaAQbHRy7ggA+5FjxYThygH85B1mVSMyRya61MhCLNZ6YxmECjXqO/8y5W63OA/5TrbrP2gJihawkWeP0ezC+h/fQ5mC8j2we9R6CkG1OyFSyBQodHcQYU2y4xX8cL4YfLYHAVB3msbGimg6U/Q7HxG/ltVMSaCJNzSHOahkaq8R4D8uZyRgwp8J6EtxyIgOPmQdDhoYGgyEZgpPeRSgEOYGpKJmHwHwnelmAOCMw+H7mmNDTpMHhZK8VrGYxNyjMjzGYQ0RFzCII5mbkwX9vRETXMgQaw5PMeUGgkeUkrc+kcl637AuGnyh/BLZl0Hg/GRyEOj1XE932mXot5h6/CTT+r/mMIapqZP3HZs0qdzKXDDkTJ1dffbVvvC3mwDpJiDc2dqbRC/2XZfXGkVlZ4olVkoBQY8g+DztXWx1XZuyDFgo0GnUaecyEGKLM6ky7RWjb/E4yM/iUfSOf8pSn1JVBL0OHB8GJzxBtbCNSDf5znsgJLTyfeb+JI57HeGzfRRaS+o+Oz5/92Z/54WXaGobEEWYIZzpB+Ap/EGsm0PAjviKzibimHST5wHzQcPg0tKznJNBEmqoCrZ4g4ARn2IdJlVQgNOycwHby0kiQXWFIiPkSL3nJS3xjQW+FBt4mK9tvMZRGr4NKlSAhYPkeAoBKitU1rKyx69FZ0NnxVLNYGxRS4VROTK5njgNClAsmM7crnOuQJus/LsYoH36TDBqVDSvMEACIb3rqGMMPDNUwZ5DXmGNBD5P5FgzVMA+KiikrA5FVKWVZjBUVjSq9auY94ifEKPO6aCwZJqtG1n9sxjjPGXahh8/wFo0G5c6xWUNBI28NPrGHeESg2VUeTIRYI8V9e85ESb1+ijWe2OSVeGIOK/FEA4ufOLcpmzyswQ7LppVGBo1Nhk2g4TPzF7cmrvEj/mOKAVk1sqDM9WSUgqE6xDlighjjOGvVf7HGE3FEPJGlos4jnqj3qtV5kPUf86yaH3kNf1OWjNgwzYRthThnOD7aG0YFyOxxTByj+QofYfiQ9g5hjZijQ/uGN7zBZ+1sfrT9VvjbWSaBJtJUFWj1GJUElQcrKm2SJ1DBWOqebRm4MgANO3MNCIqwseAxxn1OaiaY0/CzZQPfYQKNxogGh2XptmTZPlePxdzjb4as/7gYwzfsA0RFQ0+Q8qYSRXTRMOA/lqwjtBFjZEMZbsHIdjJ3hgm1tSYt17Juq6iy/mOzxmRy5nriJ7COkDX01nDwmJghjphOwJxOOlIMSSPWyG7aNIZmh/O6MZ6sTmrGEEpZn+d5OqIILK6CYnPQDPxlw2bAHF06R2RGyWiz+TM+s3mgWL2dUkzxNGtpkcRjypRFCYh3pucwhYZ4MrNYsvsGvrLHdITIthFrzHdjVCH8nXrjSwJNpFm0QGMSO0MHZMho1KloOKHJpFHJ0Jsl28IwGeP71uvjs3ZLI0F2hmDh5EYEkMWhoiKTYxPW6X0iFvgu651YhVhPD0UCrbrReDOJmkqKCoiyRyTTwyVziS/JFjHMgm9YQv7ud7/b9xjJDvB5BPNih4fUoGQb5zpzL+ml22R3GxoDGgwzGhR8yLQCJjXjO4bMEWtc25Y4I3Ytg11r+DPLJNDyjfqIOCAemLJBWVFvMcmc7RfwGX6yht6yRgg3y8QwDYQRB4YyqTf5PoQZVk99Z6Z4yjbKkdEaOp7MKaXNwh/mG8AfFmO8xn1urWME1IVkaJlzRuLA5jI24iNMAk2kWbRAI1vCnCO2ZbBeBycwm/rRiNAoMJmVnn9WT8J6ggQK30WFRIaGigzBRyAg0OihjI6O+h4Km/6lg0ACbfHGvDEmUTMkTdmTtkdk4wubh0Hjgk/IlDIng949CwLC72mmsQ9NDUq20djTeaFDhD+AhgN/AI0K961xAWKRThPTD+j0kIFmvg/D1qyeplNkjX7Wb1YzCbT6jLqN+o+rp1An2uISfIeB1ZvMJWTEweaYMTdKHZ75ZP3HRszaCs55kgZkNunEWByZT9IQV/jJXrfYo0PL3pBsy2Hfy22j55IEmkizKIHGCUjlQ1aLHgSNBic6jTor+ahk6J3wHgLBTlgCxIzHiC02A2QZM0OhbFZL9gYRgFhgt2kmyzO3iV6/fVcoysL7eSaBVt1YsMECASbvIsTo1eMHjEbFnqNiQjTjazI6zInh82mfNGtqULKN8mVSNWVu8YZIxjfECo0HDQZm92lUGIJBpCG6EdlMlGcfN4Z1GJZmJSjZT+KwEaEmgZZtlCFxQJafzgv7OzKfliE0Ygh/gPmEeEO4cXUOOjyIZ+bpMgSNKOf7uG02thRP+cbIDYvVqPeIC+o6y5ARUybGeM6et/gygcYt8cS8R7bjYE5b+Bv4LnycZxJoIs2iM2gMkZDRYoNTLmCOMENksVKTHiDijPflbbnA5xEGrFzk81RiFgyIAeZBMXGTic42rEmvn9vwxKfyqtW4SKBVN/zAPAoaE4ZZENoMZ9JDpCICGnzS/EySZ1iAlWnsxM3nrQFRBm0+Wf+xWSPLzJYZXEidOCM2WNXM0DP+YtgZo2PDkA2+ojEB86GBuGPomgw489oQ2sRjGEfVRIEE2nyj3KibaPTpSNI5JWvGpZpY7MRQGI05PgHqOHzA1kNkRenoMoeTrBnfpQ5PNln/sVkjO0k7hY8YoUEo4xM6n2SdMXyHqKbuM8EGYUYN4c3enGxoSyfK2qNG/CeBJtIsWqBxgiPCqKw5Mdk0E2OOC5WVVXjh3DMzXnviE5/ohy0ZfiEowkqMAGAiOnvKEERUfOHnw9Q/312rcpVAq20ILnqUzCs75ZRT/IIMVlfZNg408viI7QLo8bOa1vbXMv8uppHD1KDkGzHARsZMGifOmD5ARo0sDVd7QLgxhMmiDRp+5m6aQCMjQEzZhHRijKkINEgs9GBqAVm00H/VOj0SaPONssI3ZM1oqIkP6jUyZEDW2bCyR2QTaww321YoaZFsDX2zHR/F00IL2yLaqVe/+tV+x3/mS7PNB9frZIUpc2zZHJe2iXbJ5gpaXQjc8hhxxwbJXG3FziN+p1oMhSaBJtIsWqA1YxYc3L785S/31zJkjyl6KTQcNCSkmxmOIVhYgYYQCIOqGZNAq88oZ4a8EGpUXFRWNixDw0KPkrlMbK1i1wEMfbNYP6lByTfK1ip8bhFsZDDJvLD9xnOe8xw/p4ZhS/anY4NNGhdWDjKnkEbGGhTiDPApWTeyp2Tn2CLAfqOaL3tdoFmnE6ORRzST6SdrhjjjkltkVihzy75Y2WPE0amnnuoX2NTbiDdjiqfqxkgM9RgZZM5/2iTaHAyxReeHq6MgwNipgA4q7ZQJNOv40GaR0aZjS6fVEgr11ocSaCJNoQItXQnRI2QvLVaaASKASox5GQx3UnnRG6XyW+xEWUwCrbqFFQnlTTaF8j/22GPn9RyZE8iEWASBLfxYzByZtKlBqd8oc0QFRnxh+IIpBWS2mdtJFpQtG+jwMF+NhgWzhgVDpDFMymRnRHnoyzy/9qpAs6kVYUaLDiRlzWp2BDF1GI24ibMQYojneB/zdG1bBsq5VTEUmuKpPsP31Hv4FeO++YNYohxZ9MYUELKhad8SQzzP64husqLhNJxaJoEm0hQq0MLKh/lknMBsJkmFBfTwgeE0NqplxZrNbwpP9GYrMQm0xoyhFvbOYmsGKh+gUmJVJ+KMRsn8EvpnsdkANSitM+ZBMbeJzZ0to4MvEQ+YQUPDHLbzzz/fZ4Ds89UES68KNHsP5zwNOdkSsi7EiWUr6dBQptzS8WQ+IGUPPI9ARjBT1uzDxfe1Q5xhiqfmDZGG0RGls8poD9MH8DEdHIshu6V+ZGoBHVj285RAE4uh8CFOGm8qIubOMATDPltUWJzgNuTCLs4sMmCIzS4EHDb6zQoACbTaZo0Et0x0Js3PnkwmovETGTRWK7EtB5UX7zefmH/t+5oxNSj1GeUclnVY9vYaWVCGWhh+w5eINC7EjXAwn1pGjQnRLPJheNS+QwIt2yhrjDKgLmNVLQLXVtTSUFOmxAvzAG+66Sa/hQ0ZFitvhsQYPjOB1i5TPDVmFjtm9jxD/6ywZZ4a8zYR3tZxtawofuXKKgg0/CqBJhZDRwQat2THWDVz5513+krMKi1WB3ItMy4EzYq19AkeBkyjJoFW28IGivLHD2vWrKn0FhmOxj+IZ8ozS6DZ55s1NSj1W7oRSZu9RjaUjDWLAWhAEAo0KGCNC4KB7MCyZcvmfT7Pp70s0Gxon2FNhoXpaCLOiBEabVbRUrexuTbzl1glyIbPZNJMvLFCnQwaC6D4LvNVNX82Y4qn5i30BcOcjBxw5Rz25QwFGv5k5IesKNlqYo34aKQ+lEATaQof4kRwUQnSS2d3cyYnc3IDlRurnph8ziR1Gn9OcIzPVWss6jEJtNoWli8TZ1/xilf4tL7tg0ajwqomKip2zTYBbZ9bjH/M1KDkGzFA/FRrxPGBvW7+IIvGNipcuovLBzFEYwKNW0QDjQ6r0Nhyg89YvOX5tJcFmp33dF7uuusuX57hNAC2qWHRxVFHHeUvas/+Zh/5yEcqlxIC9ntkDhqZFn63FbGTZYqn6sZ5Xi2e8DW+YV4ne5xxMXXENwINw5+0XWTV2FuQ1dQMfTN3Ouv78kwCTaTJFWicYFYJNWpWyVl2xR4TBPRCWE7OECb7aDFngxOcSbWIAC4czpwZhs/s+1pl3dag1NuYNGNkCBgWYwsAVmwyJEbWhUwB8waZj0GGLeuzizU1KHNmDQfznNigmSF/fGPzYtLvT5udIzQwdHrYTJPMNRtyAg0LINIYumbaASsR7fPVREO3xVNY31ndZUY5hPHG0DE+IVtC5pH5swg0rj3MinQylcyjZRUgWTY22mYYlMyaCTQadDJoZFvse9sR090WT3beZ5VVeL6ms/uhCMPXaWHG9/EZngu/254n/ihLLunElXNsuxpghIEpApaBpv20z9drEmgiTa5A4yS1kzXrZKrH7LMWIPQoWMbMHkFc7JlKDWFG488SZjJq7GzO5HOGZMLvaoXF2KDQoz7vvPO8MD3mmGN8mVx33XU+0NnTigmneaQrklaYfR/ZMeYsMTTDnmdkCFjlZ9cITO+X1UqLsaKiAkbcsGM4DS1zufATPsJX3M8j6z9WM/yKETf02llQQ5lwpY23vOUtfr+mcNuZsFEKv4Pn7TV8RdbzYx/7mN96wwQaYsGmF3zxi1/02R626rDvsM/a94YWq0BjfzFW0pEt5LqjCCgyWGS1WASRB/8zvXovy6jH8Ad+YG7ZI4884uOYWGVKAFc8QXSRbeG97C146aWX+nOE+bWUNQ07DbotEmi2M1yPxRpP1HvEE52CRuo9zunQP+n7ds5bmdr5m44THqfLPTznuY9xn/06GU1gNTTxw2gCnRp8aUPWDG9+6EMfcm984xsX/FY9JoEm0tQc4iTjFZ5E9Vi6QqfCY4Illde73vUuv/EpvXVObHqRNAxsRkvPg9VQNP70ktLfs1iLvcfPhqM0/FTYVGBMLuZ+HlQurS4jyp3hMBpqKtAbb7zRN2z46PLLL3evf/3rG16d1KiVoaJiaAvBw75I+Kqan7L+YzXDp8QMvmAzWnzB5rN0aujAHHTQQZVNTbM+Hxp+oueP6OJ7iDuy1gzNAA0LmR9EBlkfJjcjzjkGO7fCBjC0MmTQOF/Zrgc/ATv25xEOSdHAYun/znsYKj7xxBN99oxMCpllRCCi0Fad4xs+jx8pU1Y+Mz0AYUy9R3nzWTbpZrSgVlkvxmKPJ4bWG6n3KNu8eo+2g8VNXPuUsqVOJePFsD2Cmnji/Gb6Bh0fsqD4lDgh3ugQ8f08j/E9tEksDGCqB+0VwpqYQaBhFkvEFlflQKA140cJNJEmV6BxorYii0UgEQgs93/f+97nhzXJxpAe5sQmO0P6n72ACJqsVZutspgbFMoC4UNGkQoECH4a1zz4T60uJ3zO0CbzZZgfyKRmbmmMGJZmQ9S8yrFVFntFxc7wZNM4V41q51bWf6xlNBJ0amhcuE4gKy/J0jA/k6FlG+bBqjUGnD8ISebFMHfQtrJBmJE9s/kzDzzwgJ8zFW6dYt+b5+/YBRp+4v8w1Gjgtzz4n1au3Lf/bzHGYxr/l7zkJX4eH9dCZdNSRgDSAs2M72GYkzrP9kZDhDDUSceHTitiO/xMq2M69njCP43We+lz08qM8qdM2V+TLByXQWP1LB1Msp1cLYMODnUt5wbD/ghkYo24IutJ/cdzGOIe0cXUDjo2hmXN7D4wp5D3MkKUFzPVTAJNpMkVaJzwNNb0ALNOpnqM76DCo1JjHgYBwvADlRSVGpUWKeGXvexl/j3pz7Y6SxNrg0KFxGVFGP4AeugEPxU5lXcIPTd6ajQOVAKtrMzpSVJ50fPkmqj4h4abVX/0QLnmataVA1ptsVZU+IkhGIYaOYfxDT7CV2k/AT1thoWz/mM1w6ecq4cccoif/4cIIPNCpobODL9F795ERGh8nphjiM2uBckQEtkxGio6RhyvnV/8D0QbKw0ZWrIOUj2xF7NA4xqyLEQipshe8V+BId4QMmuIX/xEedrwppUlZjHGczToDHWxItPEGUa8MB2Axp33E0sIDjYspZGnA8b7AF9yTJQ5mU27xnD4m6202OPpM5/5jH9crd4D4ol6j3IyAWTnqd3SgWQOJckAMpa0Nxi7AzA3kGvPnnvuuX7lLbHENaBXrFjh5z0jrBjFIVvGiA4iD9GNkEbsM6xp8cOxW+wTP2TWWLHLVVf4/WZ8KYEm0uQKtGZ6AFlGQ0JamewLaX167PQ4yMywbxBDNlRo4XBNq347bTE2KAS6zZMxaFC5DAxDjFQieWT9x8UYIpk5ZjTmND5UbAxxMrzG62FD1WrxHFqsFRV+ojI38BMZGbIhrfYT85jI0jBHx0BMMbRKo05vn+kHluXGJyYuEAYcK+ePrTazTJllzWhYiEMaF0Q4qw3JKlgcWgxWi8WYOzwMQRo0njTYcPbZZ/vbLMI6KDy/7bzHuBwQHRg6LXRgKEPKl+Fn6jjqO95PdoahTTI2CDEwkUh5M82Dc8bEGdZMo16PxRxPZISNZuo9SyBY5hOBRseGjr/N9wPKHl8RAzxHR5c4AGKA7BciGwGIfxDTvN9iBfiMPWe3QPaPSzxRd5LxZp51eIz1mgSaSFNzDlotozLKqlio4EgbU6ExD4CKkZ4jJzk9EYKBSbyHHnpo2wRZ2mJsUCgHGgb2FcPoTSJeCVaGRthbJ4+s/1iPWYMTNjw0+Awzk2H4whe+4BsfsgtUdGSMbH6OVYT4t5caFM5djo0rK+AnLp+En1hIQaaKzkce6f9XyyhbspXEDFnnsJGhR09DRuPGJZkwhtww5sqwkSZzzZhrxXsRJ9brN4hBGioaMIZPyQZxrpEdyjqePItVoLHgiKEuiykaX/zEfmMMQeXBf8qqi8I44fu49BnbASHM8AmNOZd4YhoA/kCYkYmxi9aTgeE9vJ99BDk+hAn7aVlcYb0UT7QB1HvEE5teN1PvZY3umIDmUoEIJ/yDIdox4iBtxAedLDJuiDM6p9apCQWafR7wJ3FEVpt6kqwc5wVxyIKC8Jyp1yTQRJpFC7Qso5JjsibDLKz427Bhg58PQE+Fhp9JoVRezI1BxLWrYkpbzEMyzZD1HxsxKhFrkJ75zGf6Rp+VSIgRKkiGYWhIaHCsMrTMQphhaLV1W0WV9R+rGT5hkjTDkyzMIG7osdNA0JjQKDDcw/waGnsaNwyxhaBDEDDRms+EWQC7T4OFoCQm2YeLBpGFIY02Kt0YT2mBFtZNnPNkZ5gzheijLBG6lCf1GkNobOJ87bXX+iFThsUQCSaQiSmmJzAUihimzMM4st9qdX3YrfGUdb6SQaPNoWPJOY5vgNix8z/L8COijFuM94PFHa/Z6/iT+LJRBuKNKSBkTcloh8fViC8l0ESaRQm08ERMBwvijDktXFyW1Ur0TGhYOJkZumF1FUM0jTYKizEJtPlGY4QPmBjLkBDL3GlEaFQYsiFLRCaHITP7jFU4Wb3XVlmvCzSMc5WhTOYvMeyCIKNxMPATGQcyESweIDNDRgyhwGv07sFEGtBgsUUAGTN6/GzZwURo5vuEmZx6rRcEGo/DRhafMBzMfCMaaRMAlDf7OOILDB+Yv0wYMKUDccZ8JzLR6UVYrRZmZt0eT2G5MY+NLBYJAKZnkBXDN/gAkZxnJsiAxybI+BztFm0Yox1kShnepm4kY0YMMXeNWGB4m3oR0d1MuyaBJtIsSqCFjbQFid3SsJM5o4fPCQ+c8Owjw7wzhgrSlWG7TQJt1sIKhNVSzJmgx0nmjIaERp4JsiwYsEUBaWun7yTQZrcL4Hxlo2DmMNE42LBKukHBZwavmSBIv4+MDh0m5sqw0s2GNJvNhvaCQMOo0ygjXmP4ip3kGT5maIuyxihnbhFl3JooAHvMfELmqbEvWvo32mm9ItC4ZaoGbQsimmFORgFodyxuiIssM19xH1+GsUPHh21AuE4tQ+TMkWMolZ0O+N30OWPHY1ZvXSmBJtIsSqDZiReekPTEycgwbMLmjGyrwYlO48+QDPugWePA57GismgSaHOGz5gD8tKXvtRPZCYjQOaMSeX0EhnKobJrJrOyWOt1gUY8kGFhRSUNAfHCNhnMZ8JPdHrYnoaNnRFuzDPDWLnIZYdYrcnzvA8hQaPCfE8mXrNims4TwzH4lt+yjlajcdjtAo0YsbrN6iqEMyKNOWZ0YihnMmdANs0ae4x4YuSArOXIyIjP6pCBY6Un32vl3e76r1cEGv4hbph/yBQBMmknnXSSn8DPyI2JtCzDd/iM6TdMF2BLGozYYSU1UwGYx0gsMuWDbFnYsUmPKNgxNWISaCJNS+aghScjGRcyL3a1AOZicOIzP4OTnYukEzw0PnyOoGrmZG7GJNBmjUaG3h9zYEjRX3HFFb5hR0RzRQOGoPER77VsW9iItLth6XWBZsYQGOWPIaiY/Pzud7/bZ6bJgiG4yIgh1ph7xpwyfMlzCAJuEXaIbbZ7MJ8Sb2ZZfq3XeiGDZmUSPk9jjD8Qz3RCGUZjPhLDzYg1hp6JJTKWZF64egEdITI7dIrC77I6MLzPrb3eCuvWeEqfu2mRRNwwt/aUU07xczkZGcAvaWM42qYIMMLDFhvEDIvbuGVFdXobKPzEb5rvss4Ts3r9KYEm0iw6g2Ynpi1Rp9JisjlzLWj0EWYEAD0YnmfFDiIuHUxFWK8JNHxj/sGs8ueWxppVfwwDcP1A5lgwHMCKTXqJLN7IqmyKMAm0WbPy55YeOxOg6fzQkyc7YPeZz8nyfmtQ8B/PMxRHA8V80HDvtPTvNGu9INCyDOFMJ8dGCpi/SRaaqRvcMm/w5JNP9p0fVmoizlhBSkbaVkFjYWy203o5ntjGhM4JuwVwuS98lDZ8hoijM0MCgVXZtGOM8pAtpS6kQ9tq4Zw2CTSRpiUZNIwTmAqH+UxcTJueCHM0EGfsbcMGgQQKE87TFVO7T3yzXs2gpcubSovtGJgPw3YBpPcZImM4jJW1LBzAJ5bCL1qoSaDNWljulknjftqfvK+oGAqtVwVaaNbhqfYc/kr7iPtpP7bLei2eSBZYrJiZD7hNm/nFXrfP8JjvCf3WTpNAE2laJtDsxKanSBaGC0qT9mdeDPfpqVCh04MssnIKrRczaNyGFQy9QTIqzAVkNR9bM7AqiX2zyHCyaCDtn6IqKDMJtFmj3M3sMY2GNSRZr5vxevgee92et99YjPWqQLMytPLlOStbe4+Ve9rs9SKtl+PJfFSr7NP+NLPP1vp8K0wCTaRp2Rw0q5zIkJH251IazMHgGmYMvZA9Sy8rNyvi5Md6TaBZYxOWL9sqcNkt5iqx7J9bJtIy8dV2NbfKyj5TtPW6QAv9xX0TZOF7QjN/YUXFEtarAo0MDVM0yK7UEyd5PinKV70WT/X6JcvwCZ/Fv+FwdPo9Wc8v1iTQRJqWCDRrHDCGOhm752Rjn5jDDz/cPeMZz/Bj+VmVHyd7URVVrwk0M/MN9xFhzJ1hwjlzZxDPiDN8xNxAVvbZ/MBawqBd1usCrdVlbo0Ohk/rESH1WK8KtNAoWwRB+nNF1Wn1WC/Hk/mHOg0f8ThtFhvcz/qOokwCTaRZlECzhsRObHtMQNjjrCCw99ttUdarAi008wU+wvJ8YL40n6Vfb6f1ukCr10K/cD/LwveH70s/34z1qkBL12NmtZ7Ler0I6/V4oswbrceyfGb37XGrTQJNpMkVaMwlY5UYJ00njRU13DJEygaPLHkmQ8djjNd4zu5XMy4G3U2wEpP5ZPb/rEwwK7d2W+gD+0389KxnPavyHs4jXqv3fGLFYTfBEn2uc8p/szKgjML/3E7DR2GM8Nv4gz3ReGzxZO/nNR5jdt9eC406optggYxl//P+c1Fm5W/ni8WT+Y779dZ7ZMy7CToGrE62/2dlhVnZFGnmE/MV26lw++IXv3je+2pZt9V7YvHkCjROmFiJ+diKJtayYP87MQeVdawonuZgS4wYUTzNJ+by4NJsQrSCXIFGbyRW1KDMEWuDcvvttyf3BCieygHZkBhRoz+fmOsXiWnRKnIFGpe5iBV27xazcPmfGOGC0WIOxVM5iNVP7Ckp5uBC9bEiX4lWkSvQhBBCCCFEZ5BAE0IIIYSIjFyBdu6557qVK1f6C8gWweTkpL/iQBouQ/Te977X33/HO97hj2dsbMxfoohrq3GB6F7kJz/5iXvnO9/pLrjgArds2bLC/MTQAn7KGmL47Gc/6285JjbAxTf46Mc//rG//Fcvgp/e9ra3udWrV3t/FeWnPL71rW+59evX+2vjHnPMMf54rrvuOrdlyxZ/6S+uKtGL4CeursFF5o844gj3wx/+MHmlM4T1nsUT9R7xRN3Xy/Ue18183/veV2i9lwfxxLFwHeOjjjrKHw91HXUeG4Bz4XwhmqVqBo1raCLUimDbtm3uzW9+c9W5BVzQ+6abbnLPfvazfQXGe9lqohf58pe/7O68805/Hx+dd955/n674eoQ+InbalBp4Rubj1HUeRQb+Onggw/29x988MGoyoFNiokn/EQ84atejScEaxhP1H0xsWbNGl/v4SN81cv1nsVTkfVePVg82THhq+3bt/v7QjRDVYHGtTRPPvnk5FF7QWzR8N9xxx3JMwshC/Hd737XXy8S6E3Z/V6Di9Hfe++9/v7o6Ki/1mkR4J9aAo3XqKRC38RUkRbJpz71Kbd8+XJ/n3gaGhry9zvNo48+6vcxI564ggQQT4973OP8/V7jk5/8ZCWeyFZxDeFYIJ7Ieobx1Mv1nsVTkfVeLX7wgx+4JzzhCT6ebr31Vv8c8WT3hWiGqgKN9C1p/6Kg4d+0aVPyaA5OdFYrfuYzn/GPH//4x/sUMj1JNpbsRW688Ub39a9/3d/fsGFDYX66+eabvZ/yuPzyy/3F8hkiwjf4CK666ip/22vgpze96U3+ftHxlAfxtGrVKved73zHP+YybBZP3O9FyHxYPH3wgx903/zmN/39TmL1HpfMI56o9/ARvurleu+Nb3yjv19kvVcN/DQ8PFwZbrU2DF+R8ROiWXIF2gMPPOArKi6oXRTMbWLeWxoa/BUrViSPnJ/LwxAEvcozzjgjeba3+NGPfuSHPagE2GPLGpd2U02gbd682c+3MvCNzaMh+9mL4KcnPelJPgtCPO3cuTN5pTPQmBx55JHu/vvvT55x7vTTT/fxxLB0L8cTopV4es5znuO+973vJa90jqx6j3h66KGHetpPz3/+8/3criLrvTyIJ/x03333Jc84d/bZZ/tbfPWNb3zD3xeiGXIFGhs2HnbYYcmjYrDGn+EXY//+/f46ZVxG47nPfa6fiE5wsrnmK1/5SvfII48k7+w9Tj31VPfkJz/ZC7WiqCbQjjvuOD9PBt+cdtpp3jevetWr/FBazPuAtRvOWS4z9oY3vCF5pnMw5MLwGCKES9KQlSaeiC/iad++fck7ew+Gn/FTkfGUR1jvPe95z3Nvf/vbvZ+WLl3qLyvUy/Ue5yyX5YrBT8QTfsInFk/UddSDr3nNazq+2ESUm6pDnEVDloHGnxWdIk5qDXEKIYQQYvFEJdDInNH4s5xcxIkEmhDNwQKbrK2EhBAii6gEGpC2ViUWL5dddlnmPEEhRHXUuRFCNEJ0Ao3smSqxeEE8S0AL0TgSaEKIRohOoNWzz5boHBJoQjSHBFr5oX1ilIdFHEK0m+gEGic+lRiVmYgPCTQhmkMCrfwwvUNTPERRRCfQgABgrpOIDwk0IZpDAq3csLsA/uOyhEIUQZQCDXF24oknJo9ETEiglQO7dJqmCsSDTd+odr1hES/Ue7RL4T6dQrSTKAVaPRdOF50Bv2gblPjRnoLxYT6RaC4f5jtNvRFFEqVAq+fC6aIzqJIqB7anoHwVDxJo5YXra+I7Zc9EkUQp0IBgyLpwuugsavTLg3wVFxJo5cQWrqk9EkUTrUBjvF+rZeJDjX55UKMSFxJo5cSyZ9paQxRNtAINEUBQKKUcFxJo5UELOuJCAq180P6wMEC7CohOEK1As8pMk5zjQfOayoUEWlxIoJUPSxTIZ6ITRCvQTAxoxWA8qIEpF9quJi4UP+XCsmfq5IhOEa1AA104PS7UwJQL6/2LOFD8lAvbt067CYhOEbVA04XT40INTLmQQIsLix9N2ygHuqyT6DRRCzTrwUgQxIEEWrlQ/MQH/tAczvhR9kzEQNQCTRdOjwsJtHIhf8WH6rNywNQazd8UnSZqgQa6cHo8WK9Sl+AqBybQNKQWDxJo8WNxIz+JThO9QNNKtHigwqLiEuVA26LEh/wRP9bmED9CdJLoBZounB4PEmjlQ4IgLuSPuNFlnURMRC/QdOH0eJBAKx/4S3sJxoMEWtzosk4iJqIXaEDAqEfTeSTQyoeuJhAXEmjxouyZiI1SCDQaGO1H03kk0MqHBFpcSKDFi9VvWvUsYqEUAs0CR5M2OwuTZyWUy4V8FhcSaHGiyzqJGCmFQNN2AXGgbEz5UNYzLhABGkKLD1uMpuyZiIlSCDTbLkCTnTuLBFr5kECLC8VQnJBlVqZZxEYpBBrowumdR41L+dDmwnGhGIqDcJWmLuskYqU0Ak0XTu88alzKh00P0NBN56Dht9g56aST/DAnHc7169dr2kaHILN82mmn+aHN1atXK3smoqQ0As16OWpoioX5Mu9973t9g3L88cf7BoaGhueVlYkfCbTOYz7IMu231Rmow0I/8Fi+ELFRGoFme9RoBVSx0MMPK7LQVKHFjy73FAdka9Lxs2rVquRVUTRkL9P+wLSAQ8REaQQakIbWhdOL59hjj51XiR1++OHu4osvTl4VsYPPJNA6i60SDI3nRGdgRCDtD0zz0ERMlEqg6cLpnYFeZboi05BZecBfWgHdWSyTGZoy0J0j7QtM4kzERqkEmi6c3hnSw5ynn3568oqIFQQ0WTOEGfMGmT941llnqSHqIFdccUUlhjS82VnMD2aKCREjpRJo6Qun81hXF2g/6d6/hmbiRxPT4yP0iWKos4TxIHEmYqVUAs0qODI4Ni9KQ23FwJwzynv58uUSxSWBOLFGyIzJ6qJz2GIBieTOYR19TOJMxEwpBJpWEnYeKjLKW6ucyoP5LDTNRessDDszQV10DuvoS5yJ2CmFQCNjk7VMHRPFYMOcmv9XLtJxo41ROwsdSg1vdhYEmsSZKAOlGeLMyqKdeuqpyauiCJR9KR/pLJqGp4UQohyUag6azYMyY7NBIUR1jjvuOB8vWjkohBDloVQCjd6/NTaY5kMJURvmPREvyoAKIUR5KJVAg3CoU7ujC1EbOjZs8KwVz0IIUR5KJ9DAhjo10VOI+lBnRgghykXLBZplt2QymUwmk9U2IbJoi0Dbt29f223r1q3uwQcfzHxNJpPJZLIymASayKO0Ak0mk8lksrKbBJrIQwJNJpPJZLIOmQSayEMCTSaTyWSyDpkEmshDAk0mk8lksg6ZBJrIQwJNJpPJZLIOmQSayEMCTSaTyWSyDpkEmshDAk0ma6VNTbix0Qvd0EC/6+vrm7WBITdy5bibnM54f6w2vd2NLOU/HOCWjd7tprPes2/a7R5b4fr7+t3Ske0576nHpt3UxC1uYmo64zWZrLtNAk3kIYEmk7XEZkTG9g1usD8RZVk2cKYbm3w447MRWkWgzRx3/wo3tjtLPLVCoD3sdowun/mOQ93IxJ6M12Wy7jYJNJGHBJpM1gKb3jHqlnlxttQNjWxy4xUhRnZozI0MLfVip3/ZqNtRhkxaKNBmBNjA8BY3teB9rRBo97uxoQNnfkMCTdabJoEm8pBAk8kWa9N3u9FlB3hxtmJsR7ZQqbznQDc0dv/C12MzE2j9h7jBwzjug93w+K7U+yTQZLLFmgSayEMCTSZbpE1PjLilZMeGxtzujNfNpicudSuGL3VXjk/OFzPMWxsZcgM+W2VZuLHUnKw9bmLk0FmBt/kWNz46PDec2j/ohkeDOW4mrpaOuIkF2Tr7nhqCqCLQVrjNX9k4mx0cWOvG5x1TNYG2202MfdQNDyLuOM5+NzA04sYmds+9Z/eYG0oPCWces0zWvSaBJvKQQJPJFmUmUprLjE1PbnYrwgUFoc2bs2bCaokbGCDjlH5/KJKqiLCq4i2wQKCN7d6TzBNLD3XmCbTdbvvIspnn08eIBZk4CTSZTAJN5CKBJpMtyurMSGWaDe+RXRqdy5hNbXejNmetkpWz30HILHVDo9sTobTbTYyumM2+BeJmNqu3MLOV9/wCmyfQZo6rMkQb/s8sgTbtpsbX+uPpH1zrNlcyZg+7yfEPz65unZeJ0xCnrLdNAk3kIYEmky3KFiEwLIOUlTUygVT53jmBtmAoNS2mwufmfXcDYjLjO20hxNxChyyBlpRHeCwVy8o2SqDJetsk0EQeEmgy2aKs2Qxa3vCgmX2viRl7nPX+LJGTcVyZoi3HskTfvl1ufPjgme+0vdEy/oN9zmf68ixD0EmgyXrUJNBEHhJoMtmiLCsrlGe73cT1X0wm8zcr0LJ+J0fk+Azd3PfXPbyJZQq0GZva4oYZpuxf7kZ37Fn4H7LmlWXYXBZQAk3W2yaBJvKQQJPJFmuJKKm5itP2SvMZrAIEmj3vfy8jo1bN8gTajLCszDFbttF9ZXNOBi1ziDPLJNBkvW0SaCIPCTSZbNFmIqPaPmg73NgKJv4Hl05qag5aIwLNRODMb4582J090F//RrlVhdbcUOdhg4ekRKYdS9a+aVkmgSbrbZNAE3lIoMlkLbC5Kwkc4AaHR3OvJJC9gpFVnB+e+8xUsIqzIqiaEWgzNm/IMeuzOVYrE2ZDnf57Q4E2l2HjGqQbgj3fpie3uA3+f4XHIYEm622TQBN5SKDJZC2xh93klnUNX4uz8X3QGhRolddmvq/uYccZqzlUadfQ5FjTw7SWYQv+S8VmxOiKzcGF4+1/Ja/Xs4BBJusik0ATeUigyWQttOnJcXflxmCXf4yd/jden7oyQGCNXkmgIYFmw5y158jNs3rmklX2RsuaR5e+ksCMDQy5kbGJBdf0nJ68wa219zUiImWyLjAJNJGHBJpMJpPJZB0yCTSRhwSaTCaTyWQdMgk0kYcEmkwmk8lkHTIJNJGHBJpMJpPJZB0yCTSRhwSaTCaTyWQdMgk0kYcEmkwmk8lkHTIJNJGHBJpMJpPJZB0yCTSRhwSaTCaTyWQdMgk0kUdbBJpMJpPJZLL6TIgsWi7QOsX+/fvdrl27kkeiXYyNjXkT5YJG4Oabb04eiZjZs2ePu+iii/yt6Bz4ABOiU3SNQKPxUU+k/ajSKicSaOVhcnLS+0sdzs6CD9QZFZ2kawQaomHNmjXJI9EuJNDKiQRaeVBns/MwIqOYEZ2mqwSahEP7UTmXj0cffVSNTYmQQOs8ZC/xgbKYopNIoImGUDmXDzU25UICrfOYD8ikCdEpJNBEQ6icy4cEWrmQQOs8zD2TD0SnkUATDaFyLh8SaOVCAq3zqJ4TMSCBJhpC5Vw+JNDKhQRa5znxxBPdpk2bkkdCdAYJNNEQl112mVu5cmXySJQBCbRyIYHWWbSoRsRC1wg0ttiQQGs/ajzKx7Zt27zPNOG5HCjGOos6NCIWukagqcdTDGo8yod8Vi7kr86iDo2IBQk00RBqPMqHfFYu5K/OohWcIhYk0ERDqPEoH/JZuZC/OgtTZXRVGhEDEmiiIdR4lA/5rFzIX52FFZwshhKi00igiYZQ41E+2C6ARkeUA8VYZ1FbImJBAk00hBqP8qEtaMqFYqxz2ArOycnJ5BkhOocEmmgINR7lQwKtXCjGOscdd9zhy37Pnj3JM0J0jq4QaAQTQUVwifaixqN8SKCVC8VY51DZi5joCoGmjQWLQxVY+ZBAKxeKsc5BnGgFp4gFCTTREGo8yocEWrlQjHUOLmOnWBGxUGqBhiDDbOdnCbT2o8ajfOAvNt8U8cI0DRPSiAR8Zo/lu/bC1BjMOvrUcULEQKkF2hlnnOEDKm0nnHBC8g7RCrjkCY2EGo/yQCNzwQUXeB/hr/Xr1/vnMF3CJk5OO+20efWYmWKsvbDnWVjebElD7FDuXDhdiE5RaoFGAIWBZaYKrfUce+yxmWVN9lLEh61GyzI1OnGSV59JULcXGxVIGyJNiE5SaoFmqzfTpgqt9bDZqcq6PCDCsvyFH0WcZNVnq1atSl4V7YI9z9LljmmrDdFpSr9IID0soF5Pe8hqPBg2E/FC4572mRqduEnXZ9o6qP3QyQzLHFNHRsRA6QVaelhAFVr7UONRLmzxjJmyMfGT9pmGo4vhuOOOq5T58uXLNTIgoqD0Ai3M7BBkon2o8SgX6cyABHX8hD67+OKLk2dFu2E0wMpdqzhFLJReoMHQ0JACqwDUeJSP97znPd5f6ryUBxMLuh5kcdhCAeJEHU8RC10h0GwCu9LS7QdhRlkrG1MObAqAVjaXB2JLWwUVC2Wuek3ERlcINHqa7GUj2o8aj3JhUwDUeSkPZHAkqIuFOGGPRyFiorQCbWpqyt16663uE5/4hLePfvSjlfv33Xef+/73v5+8U7QaNR7lQv4SYpZ0uxHa9ddf79sOIWKhVALtkUcecRdeeKE75JBD3Lp169zVV1/tJiYm5tnWrVvdhz70IXfUUUe54eFhH4yiORC5lB/l+Ja3vMW97W1vW2BHH320F8caGug89fqLGJK/Og/12Q033JDrL55j5TTxhbAQzcG5vnr1al+eee0GxvO8TvuitkPEQCkEmgkzFgMgwPbt21eXffOb3/QB99rXvtbde++9ybeJWoRCmEqLcswqXzMqN0QxFSA9UWUvi6VZfxEX8lfxUBchAKjPEGi1/EWdZ/WYREP9IMwoM8ru61//embZ5hnv53PUaSpz0SmiF2gEGQ1PI8IsbVSAVIY0YqI6n/zkJ31504hnlWU1+/a3v+1GR0d9pSZBXAzyV3lACJMNoy5q1l8I62OOOUYZtSpQzmTMWMFcS/zWMsocoUYmUx0ZUTRRC7RbbrnFHXnkkT5IsoKnUaMxonJToC2EMnn729/uG4CssmvEqBQZYiY7INpDq/1FnCH2RHvAXwwvk+HM8kEjRnaH+FJmZyGUMx0O6p6ssmvWSBCQjZMwFkUSrUCj8mmlODMjcGnYxBxUagjXVldq9DzV6Leedvpr48aNya+IVoG/aNybyZrlGfWiRNp82iXOzBDGfD+/I0QRRCnQ6KUwbNNqcWZG1kHCYQ6GA9pVqTGco0aktTBU34pMTJYxLCR/tRYyZ60UZ2Ym0h566KHkl3obho/bFRdm1JPMHxSiCKIUaIz3t6NCCw0ByOTqXofGmEY5q4xaYTQilLV6na3h9ttvb7u/yBIoNloDizCYWpFV1q0wsjpk53odzlc6g1ll1GrjdzRnUxRBdAKNE5+hlqzAaKUhALVowPnGuF2ZSjN6nSrr1iB/lQdEA52TrDJupSEAez3rSfZsMQvJGjG1HaIoohNonPiNLolu1no9s0Ol3opJ5vWYsmiLR/4qF2TP2jV1IDQEe69n0Rh1ySqbdhkdJSHaTXQCjRM/KyDaYTR2vbxhJ3MpFrsMvV5TL3/x4K+iOi/M5ZG/Fgeiqd3ZTjNGHXp5hWERmcrQ2EhYiHYTlUCjgmnn/Jq0kaqml9urFCmGKWuGIUTz0OBnlW07DCGoYZzmIftII55Vtu0wMnVYr1JkXYZJoIkiiEqgcR20dk6oTVuvC7QiGxCMYQjRPPJXeVBdViycq0VlKzEtzBBF0NMCjeG9Xl4yrQa/XMhf5UECrVjIzhcx3w9jMYKyy6IIlEFTBq0wU4O/OOSv8qC6rFhYMcuecFll02pjmw1dUUAUQVQCTfM2iqXIeRu9nq1sBfJXeSh6Pi1ZnV4WaHD55Ze3faNavp+NvYUogqgEGhQ5EbrXVz6xw3lR8zZ6XQy3giLn2eCrXm/wF4tWpBcLHXzqNM7drDJarOlST6JoohNo9ILaFWCh0dARbL2Miaas8mm1kU3QsMDikL/KRZF7Oko4zGIirdWZNOJOZSyKJjqBxlyC17zmNZlB0kpjfkivX4+zqLJmuEzzmRZPUTvTy1+toairoiAeNGl9DkQU5cFcMc7lrDKr1/g8nRWGNSXORNFEJ9Cg3XMJCDr1hmYp4gLDunZd6yhing0NkvzVGhC6TODPKudWGCMBiHbEu5gP5zDlj0hu9DJQ+IzPve51r+v5oWPROaIUaJambsfwABUaq33UAM1CWSNW2zUUg5hQ7751tNtfZGM0Cbp1MExMfdOuuYOIiF4fCagFK2qpg4gbOh+MniDYEGFmPOZ5Xkfw8n61EaLTRCnQgIqNQGllQ0QleeSRR7pbbrkl+RUBDz30UFsaERp7hLYyla0FfxEbix2+SZv81R64ZBb1TjviS52fxrjrrrvcm9/8ZnfJJZf4RTChkSnTvEsRE9EKNCBYWNXZaHo6y2jMECESZ9lYo98qQUzmTI19+2i1vyTO2gv1DvVPq0Q1qzYlzhpn165dXqBxK0TsRC3QgAaDeQSknput3BALpLeVsq4OgphGejEbbOIjfEXjoca+vbTSX5oE3X6ofxDViOEsX9RjCHKEnoY1m0MCTZSJ6AWaQfqZbFq9Ez5peGi4EGakr9X41A/lRbkhbOsdlqHhwDf4SJNqi0X+Kg/UQ3ReWD2NUKvXXzZpnc6qOprNw7mOQNuzZ0/yjBDxUhqBZlA5sfKQhoWrDpDqv/TSS90HPvABL8h4jsaKXdCZ+yFh1hyUmw17UaaULY/DibUIAhoNsgKUtxr6zlGvv4gX+avzsOoSYY2/WOWMv+h4fvGLX6z4i+eIL+ozTVpvDTfffLMXaEKUgdIJtDSs0Fm/fr1vlLgvQdZ6KFPKlgb/3HPP9RUcjQsCmOdFXIT+omHHX3Rq5K84QazhF2LqrW99qzfuI6A1ab21SKCJMlF6gQYXXXSRN9F+VMGVC825KQ/79+/3vhobG0ueEa1G9ZcoE10h0FSpFYcquHIhgVYetm3b5n2l+VHtQ/WXKBNdI9AIPNF+VMGVCwm08rBmzRq3cuXK5JFoB5dddpnKWJSG0gs0a4AmJyeTZ0Q7kUArF2Rj8JcWBMTNo48+6v2kkYD2oukwokyUXqAhzJQhKA4aEAm0coG/lGGOG23/UAwSaKJMlF6gWUaHHqhoP6rgyocEWvxo6K0YVH+JMlF6gaaMTrGogisfEmhxY8ObmzZtSp4R7UL1lygTpRdoCrhiUXmXjxNPPFGNf8TY8Kbm0bYfylnz/ERZKL1AY+WTBENxSKCVD/ksbhjeRESL9qNssigTpRdoCrhiUWNfPuSzeNHwZrGovRBlotQCzXbeVsAVhxr78iGfxYuGN4tF7YUoE6UWaNqEs3g0pFw+8Bd+E/Gh4c3iUIdelI3SCTSGBBBk3GrvoOJRBVc+8Bd+E3Gh4c1iUYdelI1SCjSCLLQLLrjAr8zRbuntgQYkXeZnnXWWW79+vcRxpOAX/EPm7LjjjpvnOwmCzkH9hYGGN4vhjDPOmHf+n3zyyT4uaDeEiJlSDnGeeuqp8wLOTJmd9mBXa0gbDb+Il7w4UUemc1gWB/G8evVqd/zxxyeviHZhe2Wm7YorrkjeIUSclFKgZWV0EAvWMxWt59hjj11Q5tpPKG5saDNtipPOYQIttFWrVrlt27b5OVKi9eR1MDXUKWKnlAKNyiwdbMoKtJcsUawGJW6ypgOQuRGdI0ugYWTSFE/tI93BRBQLETulFGjMrwmDjaEc0V7SvdCLL744eUXETFpY07kRnSNPoGkeWntJx4E69KIMlFKggYKteMIyV4NSDmxrATNlaTpLlkDT3Nn2YwsyMM2dFWWhtAKNoRqC7fTTT0+eEe2GrBllroxluWC1Gn477bTTkmdEp0gLNGWiiyEc7tfcWVEWSivQbAK0smfFYb1Q9fjLhQ1Pq2HqPKFAQzBrwUZxWKdeWWRRFkor0Gh0Vq5cmTwSRWC9UFVw5YNYQRyIzkMMLV++XHsIFgzzL7lygxBlYdECzXqDvWadJuuYut26gaz/1QsWO1nH3AvWKbKOpRdMiEZoiUDbt29fT1kMgdZr5d4tlZviJU6K9MvHP/7xzOeLtk76RXEgRG0k0JqwGAKt18q9Wyo3xUucyC/FovIWojYSaE1YDIHWa+XeLZWb4iVO5JdiUXl3B8xLZm4rduONN3r73Oc+51eOp+3888/PtPT7uASXfddtt93mv7tX52tKoDVhMQRar5V7t1Ruipc4kV+KReVdLlgYZiLskksu8UKKqzGwMvbaa6/1tn37dnf33Xd7y/r/8223mxi/3U1lvPbggw9Wvoff47s3btzoxdzw8LD/7c2bN1fEWzcjgdaExRBovVbuZa7cQhQvcSK/FIvKO27IWN16661ejCGKTIghwu67776Z/3OPGx1c4voGR91kxn+tblNufHigyc/u88dm4g3hhlA00bZz586u2rpGAq0JiyHQeq3cy1S5VUPxEifyS7GovOMDcXPllVe6M844wwufrVu3+mxW1n/ppEDLM0QbIhLBtnr1ai8wy74llARaExZDoPVaucdeudWL4iVO5JdiUXnHwQMPPOBFGVkyVhfPZseyj3++1RJoD7vJ8Q+7oYF+19fXN2MHuMHhT7mJqd2z4sw/N2NLht34nnE3vKTfDQy91w0PHjD7fP8yN7LlJjc6tDR571I3NLo9c0g0y8iyITA3bNhQEWtlzKxJoDVhMQRar5V7jJVbMyhe4kR+KRaVd+dAqDB/yzJl9c0ZS1sNgbZ7zA31z4iu4S0zomraTW3f4AZnHi8d2e6m0xm0vQi0RJRt3+32TW1xw17YzYi6kW0zn9818/6DZ15f4cZ2Ty/8rRqGWGM4lMtCIkbLtOBAAq0JiyHQeq3cY6ncFoviJU7kl2JReXcGMkkIM4YCESpZx1mf1RBok6NucEZgLRu9e0aQpV/PFmj9Q2Nud/h6IMj2jg+7JX0Dbnh8Kviexg0xynw65qyVYfhTAq0JiyHQeq3cYyjzVqB4iRP5pVhU3sXCUGZrhJlZDYE2vcONrQiGJ0c2uivHJxOxli3QlgyPu73h6wx/7p39vlYJNDOEGnPVrrnmmqiHPiXQmrBOBprRa+UeQ5m3AsVLnMgvxaLyLg6G9xAj9c8vq8fqWyQwPTnurhy9NJlbZkOenRdoZghW5qjFOuwpgdaEdbJiM3qt3GMo81ageIkT+aVYVN7FwJyryy+/PPN4Fmf1CbQ5C0VXPAINQ7gyPy1GkSaB1oR1smIzeq3cYyjzVqB4iRP5pVhU3u0HccZKxqxjWbxVF2jTEyNuaWWS/8xzU9vcyOAByTyzRIAtHXET0zOvdVigYYgz5qbFJtLaLND2usnRo11f39FudHJvxuvYtJuaGHMjleW0rOYYdMOj424S59mJYK8tsCVucPTO5HdmHmet9PArSuy998x/rQlrZ6DVOx5etdz9BM0a/3Vqwo2NDLmBSjmyDHrUjU8+PPO6+c1eyzAC0/8Ojw90Q2P3p37jfjc2dODce+e91rgVXbk1Sr0TTqvHSz290t1uYmwkWL7e5/oHh92oze+o+CTPiMU7KzE1NzHXbNrtHlvh+ivvzYvb+q2TviOe6omp6n5RPVYvioN8W2x513suA4sB2pM5M6tyPnu/zfhn81o36M9XjG00Ppy0L7aqk+dnyvaemzou0DAyaWw3Um8ZF0HHBdr0jlG3rH9GHKy9IanIqOhGZwJvSTJeHb4/7/tCQZEWC2GgxS/Q7BIa27Ztq3qiVC33WgJt+m43umymNzO4zm3xATPz3NT22T1nBta68alUw5D3fUEluKCCqzQmM9YDAu3mm292J5xwghsbG6vaC6seL7UapofdjtHlrn+m4V+7xSbczlSEoytmhPbBM5XXrtT7874vqFwXCIFAWEfSMC0GLgXD73N9v8nJyeTZhVT3i+qxeiEOGC5SHCy0xZY35zJ1zKZNm6qey7QbtCGUf9ZxyPKN+XpYLHRYoOW9vsdNjByaETS1KrZD3dDQwSmxMBto/QMD7qASCLQ1a9b47ze7+OKL3R133JG8OkfVcq8l0HJen01LZ2TDqgq0Je6woRPd0nm+ShqT/oPcwEEzPdweEWih32ikENnpjEJVv9VsmHJen97uRpb2Z2QBajRMh53shpYeNN/fXljPiIoBGqc4GqbFYALN7LjjjssUD9X9onqsXtJxYJ1NxUFrBFpYtqeddlrmucweZ4iMrGOQ1TayaLHQ+QyajVX7XYbDSizLalVsR7uNY++fLxZ80B7ihkffX120NGBhkBRlxx57rO852cVheS7r2LzVEmhWkQ2udZsndme/J7QaAm1w47/MfF9YwdEwHeYGhi91I1Ur2votXR5lMrKiiGx6tjzO+n+zVqthsgZ/0A1vnkhlZbKsRsM0+GE3NvN9YYPm43HgbDc6sqylDVOMFopoHmcd+6ypHmuFWWdTcdB6C4Uwc89au2Kzt4yrD9Q7VN9uIpiDZqlpUsnY7J4po2NZgVe7YhvdsW2eWPCBxmTEHTVESwOWDo4i7cQTT6z0UrOOzVstgVYZfrH5G8wPuNCNjl6f3bjUEmijE77CrFRwvjE5zI1MTNSoaOu3dDmU0S677DJ/m/X/Zq1WwzRjU8lQtMXLwJAbGb3SjWUK7VoN06jbQXxUhMCssF46ss3tqBm39Vu6HGKzlStX+tusY5811WOtNMVB+4xz+bzzzsv8fVl9xtYblgjpNBEINDOu3fUvMyLhwkQ4zIiGFZuT+RxmdVRsk1OBWLBA2+6ma4qW+o3/3C7SQ5xmYe8TeC7r2Lw18F9n96nZODe5eeBMN2bz0sxqCrR7ZhuQpIKrNCbTdVS0dRr/N2bSQztmDEPwmvXIeC7r/81aA+U1PenGrxyd6eHbQo+lbsXYjmQ+jlnthmnSi+lECFSE9VQDcVvb+M+dIj0sZGYZaRse4rmsY5811WP1Ui0OwqFOnss6pllTHGSRdy6nh+03b97c5OWbZBirOavN/y6SiARaaMkk0AWrNuqp2PbOiYVdX0kCbU9DoqWW8Z/bRSjQ8uZvQNVyb/K/zk50DlfTJFaHQJut1Kjg7plrTBqpaGtYO8u8FYQNU7rxD6nqt2bLK1n0Ea56mrU6GqZkuAghsKsirJuN22zrpO/SjRodnawJ1tX9onqsXtJxkLdYoHp5Kw6ySJ/LeQtfdu7c6S98nnUMsurGucrGtbHQYYGWrJTxwZB6zVdEzVVsJhZOHj4jCTT7vvgFGg17rRVQULXcq/5XWw126GyFP++12QqrKYFmFdzJZ7uzrTFptqLNsHaWeSugYWLoptrqKqgeLzXKy09ctgsOh68l539TDVMyfNa/3A2ffWjy3XE1TIuBRo1OT5h9zqK6X1SP1QtxUGuVISgOGodz+aKLLqp5LgMT3R988MHM4+iMMa3mljrmZ9Zrrf6+WUPYssgiFjos0GYKeXytG+hLTa61+QULtnyos2JLxALDC5Ugjrxia5Sq5V7rv05tccMD6UUCVZap531f6nlfwTHMUGmoalS0DVgMZd4KqsdLrfLa5caHD05Njq62nUN9DdOsEGA4zkR7XA1TEVT3i+qxVqM4aC9ce/Occ87JPI5O2Ow+Zq0pR6zV34dt377dL+iKiYIEGnMD0maFy5yN0eRaXfYaFZ1tmpr1fWnHLHx+ViwEWaKeE2hhWZsFYmpy3I0ODyb7Ks3avI0eF3xfbYE2W8EtCXq2tSra+i2GMm8F1eMlKa/AJxWrNCKTbnx0ONgAcsZoqCobomZ8X62GyYRARViXt2Fqlup+UT3WahQH7YdM0MaNG/1oTNbxFGmxCzTm7J1//vnRzD0z2izQutM6WbEZvVbuMZR5K1C8xIn8Uiwq72JApDGXefHDnWQoPxV0QOZnixfu9D93NYCbbuI1E9K8Z0Zc89rAyW64shJ3qRsa3Z5kPhdeSSC8HNQe/1vh94XTBxo39oxj3lls4gwk0JqwTlZsRq+Vewxl3goUL3EivxSLyrs4GO5kz7/FbF47u4BsbkXy9ORmt4JpMstG3Y6Zx9UEGiJrfsYrea2ywvlhNzl2pp8isGz0bjddQ6AxP7oVGTRE67p16/y+cTGKM5BAa8I6WbEZvVbuMZR5K1C8xIn8Uiwq72JBgCBE2EKi8S04kqHfyj5xPDd/sVlTAm3e94ULbdor0BjyZa8zFlKw4jVmJNCasE4GmtFr5R5DmbcCxUucyC/FovLuDIgTJsIj1JgUn3WcCy0RTJW5eYn5+ZCzoqwpgTZvTmAiAv372yPQyJiZMONi8mVAAq0JiyHQeq3cYyjzVqB4iRP5pVhU3p3FLgnF/DRES/U5auUWaAhRLt/EPLOYttCoBwm0JiyGQOu1co+pclsMipc4kV+KReUdBwx9IlouueQSL9aYp7bwOp7NDHEmQ5bVBFrWEKcXbRkCze99V59AI0uIKGMFK9kyrqxQa1/RWJFAa8JiCLReK/cYK7dmULzEifxSLCrv+AjFGsIGgbN161Yv2GotErDNgyuT/resm90CZZ5As+1iEgHGStC1NwSLBA5Mrj1r4i+5bNf0pNuydnZLqPkCbfb7EF/MqyMTyNAtmbJrrrmmtKIsRAKtCYsh0Hqt3GOv3OpF8RIn8kuxqLzjB4HDXC2GQs8443S3duVx7oiXPSHZ3uIp7o3v2RTs5B+IspnX2QR94/Bhc1mwqW1uxG/RwR5+X0kyaIe5oZOTbTbmbTo8Y4EomxVyG9zwYUvcE95xtfvy9u3u2o9f5I446PdmXvsN94Kjz/aZPyb8x7oas1kk0JqwGAKt18q9bJVbHoqXOJFfikXlXU643BSiDUHEYgOyVWzwinGZJLJYGEOMZLVCQ/DNlsXcEObVO+9b8D6ydvY9zB3ju8no8XuIRRNjWdeo7jYk0JqwGAKt18q9Gyo3ULzEifxSLCrv7gPxZoaIStvFF1/sRRblgPX99uvc+k9uXvA+hlnte3pBhFVDAq0JiyHQeq3cYyjzVqB4iRP5pVhU3r0L5YD1/eF6d9uPkidFJi0RaL1onSbrmLrduoGs/9ULFjtZx9wL1imyjqUXTMz5XtRm0QJNCCGEEKIeJNDqRwJNCCGEEIUggVY/EmhCCCGEKAQJtPqRQBNCCCFEIUig1Y8EmhBCCCEKQQKtfiTQhBBCCFEIEmj1I4EmhBBCiEKQQKsfCTQhhBBCFIIEWv1IoAkhhBCiECTQ6kcCTQghhBCFIIFWPxJoQgghhGgbY2Njbs2aNd5MoHF//fr1bs+ePcm7RBoJNCGEEEK0jTvuuKMizEI79dRTk3eILCTQhBBCCNE2Hn300UyBRmZN5COBJoQQQoi2cvHFFy8QaBrerI4EmhBCCCHayuTk5DxxtmrVquQVkYcEmhBCCCHazrHHHlsRaNu2bUueFXlIoAkhhBCi7WzatKki0Pbv3588K/KQQBNCCCFE22HOGeKM+WiiNhJoQgghhCiElStX+m03RG0k0IQQQghRCMw9Y9sNURsJNCGEEKIN2HwrmaweSyOBJoQQQrQBGt19+/bJZDVNAk0IIYQoCAk0Wb0mgSaEEEIUhASarF6TQBNCCCEKQgJNVq9JoAkhhBAFIYEmq9ck0IQQQoiCkECT1WsSaEIIIURBSKDFarvdxPjtbirztc6YBJoQQghREK0TaFNufHjA9fX1ZdgSNzh6T8Zn5tve8WG3pG/ADY9Pzbuf9d6aNjXhxjYOu8F+O4Z+NzA04sYmdme/PypLynJw1E1mvl7bFl1+GSaBJoQQQhREywXakmE3vjfr9drWMoE2tc2NDB7g+gfXus0myKa2u9Ghpa6vf7kb3fHwws9EZRJoQgghRE9TpEBbKBrmfyZboN3pxoYOdH1LR9zE9Nx3TU+MuKX9K9zY7unKc7O2x02MHOr6Bta68anUa1Nb3PBAv+sfGnO7/XO73cTmtXNZtv5BN7x5IhlWTI5t4GQ3jLDzWbgD3ODaG9wkx7F33A0vISt3lhua+U77/Notk27afm960m1ZO+j6/Wf75gvG5PXxDUNuoPL6Ordl8puzv5s8VynPWt9lAtS/vtSdPHTYzHsl0IQQQohSEr9A2+12j62YERuHupGJPcnnZkXYnNAKbHq7G1na75YMj7u96dfm2cNux+jyme9d6laM7ZgRVQ+7ybEzZ8TSAW7Z6N0zj5Njq4iyaTc1vnbm9QPd0Nj9iUCbEUMVUbZr5v0Hzzw20Zg8HjjTjU2Ssdvtto8sc/2VDJ79/sEz/3FXRTzOCtHktysZtFrfdf+siE1en57c7FZ40SiBJoQQQpSSlgs0y/wEZmKpOYE289505suLsINmhVLl9xPzwqmOOW+JkJsv8hKhE4qkMEuXiDL/f5L74efnHfPuMTfUn4g5+/4k67Z0ZLubTn4/exgzJdBqfdfkqBs04ehfn05ErQSaEEIIUUriz6Dx3mTYMhFL+cObM1avQAsFTuX5vW5y9OjkeDL+TyLKQoEWZuoWHv9CsVoRrBmfn7P5Aq3Wd+3xr4cZxhnzok0CTQghhCgl5RBoyZwznyW6J394E6s6xDntpiaud6NjE26qEIFWRSA1LNDyv2v2dQk0IYQQomvorEBLhhTrEGj7pu92o8sOcH0Dh7nBgZzhTW/zs23zXrNhzWWjbsfeOoc4mxRos8OSaQEYWMNDnFW+S0OcQgghRHdRpEAzoTGwYrObnH7YTW5ZN7uCsh6BVhEdM+/PG940szlrmdtsLHMj23muzkUCzQq0yqKBud+b/b8mpFKLBKZ3uLEVHB//bffsb1dWrtb6rvQigRvc2sEZMSuBJoQQQpSTQgVaRVjMzp9CQG0cPqxOgTZjXuDNn5ifa2xUOzK3hUX2RrV1bLPRtECbeW7mGDYPz22NMf/7Zyy1zUbfwAo36o9v2k1t35Ac19FudHJv7e+a97q22RBCCCFKTesEWgHmhwWrDW/K2mkSaEIIIURBlEegJfuQpTaslRVnEmhCCCFEQZRCoNmE+sp8sYz3yNpuEmhCCCFEQZQngybrtEmgCSGEEAUhgSar1yTQhBBCiIKQQJPVaxJoQgghREHQ6Mpk9VoaCTQhhBBCFMKJJ57oNm3alDwS1ZBAE0IIIUQhXHTRRW7NmjXJI1ENCTQhhBBCFMLY2FjmcJ5YiASaEEIIIQrhjjvu8AJtz549yTMiDwk0IYQQQhQCwgyBhlAT1ZFAE0IIIURhINAY6hTVkUATQgghRGGwSIDFAqI6EmhCCCGEKAy22WC7DVEdCTQhhBBCFMa2bdv8MOf+/fuTZ0QWEmhCCCGEKIxdu3Z5gTY5OZk8I7KQQBNCCCFEYTz66KNeoN18883JMyILCTQhhBBCFMrKlSvdZZddljwSWUigCSGEEKJQEGeINPZFY6hT+6ItRAJNCCGEEG2HoU0WCLAH2mmnneaHOc20L9pCJNCEEEII0XYQaKeffvo8YWaGcBPzkUATQgghRCHYtTjTxspOMR8JNCGEEEIUxgUXXOAOP/zweQKN7JqYjwSaEEIIIQrDLphudtxxxyWviBAJNCGEEEIUCosCTKCtX78+eVaESKAJIYQQolAY0iRzhkDTCs5sJNCEEEIIUTi2YEArOLORQBNCCCFER1izZo1WcOYggSaEEEKIQmCBAILslltucTfeeKP7xCc+4T796U/7+xiv8R4hgSaEEEKINoHYQnixtcaqVavcxo0b3bXXXuu2b9/u7r777nnGc7zGe3gvn+GzvSrYJNCEEEII0TJYAHDrrbe6M844w23YsMFt3brVi6x9+/Y1ZHwG0YZgGx4e9t/ZS/ulSaAJIYQQYtEgnsh4kf2yzFeW8GrGLBNn390LQk0CTQghhBCLYseOHf46mwxRZgmsVhoCjd/iN7sZCTQhhBBCNAWZrEsvvdQPZbYyY1bL+C1+85JLLunabJoEmhBCCCEaBpHE3DDmmGWJqCKM3+YYOJZuQwJNCCGEEA2BIGKY8b777ssUTkUax8CxdJtIk0ATQgghRN3EJM7MulGkSaAJIYQQoi6Y78X2GTGJMzMTafv370+OttxIoAkhhBCiLlavXu33JssSSK233W5i/HY3lflatrHhLcfYDUigCSGEEKImbG/x8Y9/PFMYtd6m3PjwgOsbHHWTma/nG1t9cKxlRwJNCCGEEFVh2JDhwyxB1B5rXqBhbGhb9vloEmhCCCGEqAr7jTF8mCWGcm1qwm0eHnT9fX2ub8b6B9e6zRO7Z1/bO+6Gl/S5JcPjbm/y/r3jw25J34AbHp+cFWfJ5/qWDLvxvcH31mEcK9fyLDMSaEIIIYTIhUzU+vXrM4VQrk3f7UaXHeD6Bs50Y5MPzzze4cZWLHV9/cvd6I6Zx1UF2tTM48Vl0LB169a5Bx54IPkX5UMCTQghhBC5XHnllQ1nz6YnRtzSvgPd0Nj9c8/vHnND/f1u6ch2N12AQOOYOfayIoEmhBBCiEzYVoOd+rMEUDWbFVuHupGJ8PJP97jRwSWzoqwAgYYxb66sl4KSQBNCCCFEJjt37mxq5WYsAo3VnLfddlvyb8qFBJoQQgghMmlmeBNrfIhz2u0eW+H6WyzQ2Ly2rMOcEmhCCCGEyIRNX7OET02rtUhg3/1ubOjAyuvTkze4tYMz708LtKUjbmI64/sbMK58UEYk0IQQQgiRCfuJZYmeuqzaNhszNifKZl7vH3RrNw67wyoCbdpNbd/gBvv57NFudHLv3Pc2aOeff37yb8qFBJoQQgghFsDk+oa314jQNm7cWMpNayXQhBBCCLGAXbt2+csmZYmeMhn/gf9SNiTQhBBCCLEACbTOIoEmhBBCiAVIoHUWCTQhhBBCLIB5W8zfyhI9ZTL2cZNAE0IIIUTXwArILNFTjO12E+O3u6nM1+o3FjqU8WoCEmhCCCGEyKSZyzy1xlqzUS3GfygjEmhCCCGEyOSSSy5xDz74YKbwaa+1RqAxTHvBBRck/6ZcSKAJIYQQIpNbb73Vbd26NVP8VDV/Kad+NzB0lhsa6J/djHZghRu1jWqrXotzclacJRvc9i0ZduN7g+9uwDh2rsdZRiTQhBBCCJHJ/v373YYNGzLFT1VLBFhf31K3YmyHm05f6qmgi6Vz7GXcpBYk0IQQQgiRC9fjbHiYMxFg/UNjbrc9V/Vi6a0XaAizsl6HEyTQhBBCCJHLbbfd1vh+aF6ALXGDo/fMPTe93Y0s7Z8VZQUINI6ZYy8rEmhCCCGEqAorIclIZQmhTOuwQLPsWRm31zAk0IQQQghRFTJRDW1amwiwhUOciWhbINCm3e6xFa6/RQKNzWlZ4FBmJNCEEEIIURO2q7j77rszBdECSwRYX/+gW7tlMlgksMKN7Z6eec/9bmzoQNc3cKYbm3zYTU/e4NYOHuD60gJt6YibmM74/ip23333+XlzZUcCTQghhBA1YUXnqlWr6hvqtAza4Mnu5GSbjf7BtW6zbbMxY3OiLBFyG4fdYRWBNu2mtm9wg/2sBD3ajU7unfvuKsax2TGWHQk0IYQQQtQFQ53r1q3LFEfzLGOOWRHGthplXhgQIoEmhBBCiLph49ea89E6INA4JlZudgsSaEIIIYRoiKuuuqq6SCtYoHEsHFM3IYEmhBBCiIZhleQ555zT2PYbLTZ+myHXbsqcGRJoQgghhGiKnTt3utNPP73+1Z0tNH6TBQHdMucsjQSaEEIIIZqG1Z1swcEwYxHZNH6Dfc74TX67W5FAE0IIIcSiIZPFFQcYbmyHUOM7+W6uENCtWbMQCTQhhBBCtAwTamTU2DQ2S2w1YnzH5Zdf7r+TeW9lvnxTI0igCSGEEKLlPPDAA+7KK6/0c9QQa2zPUc9cNd6zdetW/xlEGd/BXLdeQwJNCCGEEG2F4Ukya5s3b/ZzxzAm+J9//vneuG/P8x4yZXyml5FAE0IIIYSIDAk0IYQQQojIkEATQgghhIgMCTQhhBBCiMiQQBNCCCGEiAwJNCGEEEKIyJBAE0IIIYSICuf+P7SFL0XqNIiTAAAAAElFTkSuQmCC)"
      ]
    },
    {
      "cell_type": "code",
      "metadata": {
        "id": "qeCb7Uy0agYJ"
      },
      "source": [
        "\"\"\"\n",
        "Code for CNN + LSTM model. The CNN outputs of images are fed sequentially to the LSTM Model. The LSTM model has to learn to add the numbers. \n",
        "\"\"\"\n",
        "class CNNLSTMMain(nn.Module):\n",
        "\n",
        "  def __init__(self, input_size, lstm_hidden_size, device, num_lstm_layers = 1):\n",
        "    super(CNNLSTMMain, self).__init__()\n",
        "    self.conv1 = nn.Conv2d(1,32,3,1)\n",
        "    self.conv2 = nn.Conv2d(32,64,3,1)\n",
        "    self.dropout1 = nn.Dropout2d(0.25)\n",
        "    self.fc1 = nn.Linear(9216, 128)\n",
        "    self.fc2 = nn.Linear(128, 1)\n",
        "    self.lstm_hidden_size = lstm_hidden_size\n",
        "    self.lstm_layer = nn.LSTM(input_size, lstm_hidden_size, num_lstm_layers, batch_first = True)\n",
        "    self.lstm_fc = nn.Linear(self.lstm_hidden_size, 1)\n",
        "    self.device = device\n",
        "\n",
        "  def forward(self, x):\n",
        "    x_shape = x.shape\n",
        "    x = torch.reshape(x, (x_shape[0]*x_shape[1], x_shape[2], x_shape[3], x_shape[4]))\n",
        "    x = self.conv1(x)\n",
        "    x = F.relu(x)\n",
        "    x = self.conv2(x)\n",
        "    x = F.relu(x)\n",
        "    x = F.max_pool2d(x, 2)\n",
        "    x = self.dropout1(x)\n",
        "    x = torch.flatten(x, 1)\n",
        "    x = self.fc1(x)\n",
        "    x = F.relu(x)\n",
        "    x = self.fc2(x)\n",
        "    x = F.relu(x)\n",
        "    x = torch.reshape(x, (x_shape[0], x_shape[1], 1))\n",
        "    batch_size = x_shape[0]\n",
        "    hidden_state = torch.randn(1, batch_size, self.lstm_hidden_size).cuda(device = self.device)\n",
        "    cell_state = torch.randn(1, batch_size, self.lstm_hidden_size).cuda(device = self.device)\n",
        "    all_out, (final_hidden_state, final_cell_state) = self.lstm_layer(x, (hidden_state, cell_state))\n",
        "    final_hidden_state = final_hidden_state.view(-1, self.lstm_hidden_size) \n",
        "    out = F.relu(final_hidden_state)\n",
        "    out = self.lstm_fc(out)\n",
        "    out = F.relu(out)\n",
        "    return out[:, 0]\n"
      ],
      "execution_count": 9,
      "outputs": []
    },
    {
      "cell_type": "code",
      "metadata": {
        "id": "u22wKc6PY0VY"
      },
      "source": [
        "# Code to train CNN+pytorch LSTM model\n",
        "\"\"\"\n",
        "Hyperparameters to train the CNN + pytorch LSTM Model\n",
        "BATCH SIZE = 32\n",
        "NUMBER OF EPOCHS = 300\n",
        "LEARNING RATE = 1e-3\n",
        "Hidden State Size of LSTM = 10 \n",
        "optimizer = Adam\n",
        "Loss Function = Mean squared error\n",
        "\"\"\"\n",
        "\n",
        "BATCH_SIZE = 32\n",
        "NUM_EPOCHS = 300\n",
        "LEARNING_RATE = 1e-3\n",
        "TRAIN_LOSS_RECORD_STEPS  = 25\n",
        "SHUFFLE = True\n",
        "NUM_WORKERS = 2\n",
        "device = torch.device(\"cuda\")\n",
        "model_save_folder = \"drive/MyDrive/CNNAdd/saved_models/\"\n",
        "graph_save_folder = \"drive/MyDrive/CNNAdd/graphs/\"\n",
        "input_size = 1\n",
        "hidden_size =  10\n",
        "\n",
        "best_model_name = \"CNNLSTMBest.bin\"\n",
        "total_loss_graph_name = \"cnnlstm_total_loss.png\"\n",
        "loss_5_graph_name = \"cnnlstm_loss_5.png\"\n",
        "loss_6_graph_name = \"cnnlstm_loss_6.png\"\n",
        "mae_5_graph_name = \"cnnlstm_mae_5.png\"\n",
        "mae_6_graph_name = \"cnnlstm_mae_6.png\"\n",
        "out_file = open(\"drive/MyDrive/CNNAdd/terminal_output/CNNLSTMTraining.txt\", \"w\")\n",
        "model = CNNLSTMMain(input_size, hidden_size, device)\n",
        "\n",
        "model.to(device= device)\n",
        "optimizer = torch.optim.Adam(model.parameters(), lr = LEARNING_RATE)\n",
        "mse_loss = nn.MSELoss(reduction=\"mean\")\n",
        "mean_absolute_error = nn.L1Loss(reduction = \"mean\")\n",
        "\n",
        "print(\"PARAMETERS:\\n LEARNING RATE: \", LEARNING_RATE, \"\\nBATCH SIZE: \", BATCH_SIZE, \"\\nEPOCHS: \",NUM_EPOCHS,\"\\nTRAIN LOSS RECORD STEPS\",TRAIN_LOSS_RECORD_STEPS, file = out_file)\n",
        "\n",
        "dataloader_train_5 = DataLoader(dataset_train_5, batch_size = BATCH_SIZE, shuffle = SHUFFLE, num_workers = NUM_WORKERS)\n",
        "dataloader_test_5 = DataLoader(dataset_test_5, batch_size = BATCH_SIZE, shuffle = SHUFFLE, num_workers = NUM_WORKERS)\n",
        "dataloader_train_6 = DataLoader(dataset_train_6, batch_size = BATCH_SIZE, shuffle = SHUFFLE, num_workers = NUM_WORKERS)\n",
        "dataloader_test_6 = DataLoader(dataset_test_6, batch_size = BATCH_SIZE, shuffle = SHUFFLE, num_workers = NUM_WORKERS)\n",
        "\n",
        "train_model()"
      ],
      "execution_count": 10,
      "outputs": []
    },
    {
      "cell_type": "code",
      "metadata": {
        "id": "Hlw_Nf6YiyPW"
      },
      "source": [
        "# Code to test models\n",
        "def test_model(model, model_state_dict_path, device, dataloader_test, model_input = \"X\"):\n",
        "  model.load_state_dict(torch.load(model_state_dict_path))\n",
        "  model.to(device)\n",
        "  model.eval()\n",
        "  loss_sum = 0\n",
        "  mae_sum = 0\n",
        "  num_batches = len(dataloader_test)\n",
        "  model.eval()\n",
        "  for i, batch in enumerate(dataloader_test):\n",
        "    X = batch[model_input].cuda(device = device)\n",
        "    y = batch[\"y\"].cuda(device = device)\n",
        "    X_out = model(X)\n",
        "    loss = mse_loss(X_out, y)\n",
        "    mae = mean_absolute_error(X_out, y)\n",
        "    \n",
        "    loss_sum += loss.item()\n",
        "    mae_sum += mae.item()\n",
        "\n",
        "  current_loss = loss_sum/num_batches\n",
        "  current_mae = mae_sum/num_batches\n",
        "  print(\"MSE Loss : \", current_loss)\n",
        "  print(\"MAE : \", current_mae)"
      ],
      "execution_count": 8,
      "outputs": []
    },
    {
      "cell_type": "code",
      "metadata": {
        "id": "9ECh2aiOsa9V"
      },
      "source": [
        "# Testing ConvNet with Add Logic Model\n",
        "model = ConvNetWithAdd()\n",
        "model_state_dict_path = \"drive/MyDrive/CNNAdd/saved_models/CNNAddBest.bin\"\n",
        "print(\"Model: CNN with Add\")\n",
        "print(\"Results of extrapolation to sequences of 7:\")\n",
        "test_model(model, model_state_dict_path, device, dataloader_test_7)\n",
        "print(\"Results of extrapolation to sequences of 8:\")\n",
        "test_model(model, model_state_dict_path, device, dataloader_test_8)\n",
        "print(\"Results of extrapolation to sequences of 20:\")\n",
        "test_model(model, model_state_dict_path, device, dataloader_test_20)"
      ],
      "execution_count": null,
      "outputs": []
    },
    {
      "cell_type": "code",
      "metadata": {
        "id": "n27-_1wLmKs3"
      },
      "source": [
        "# Testing CNN+pytorch LSTM Models\n",
        "input_size = 1\n",
        "hidden_size = 10\n",
        "model = CNNLSTMMain(input_size, hidden_size, device)\n",
        "model_state_dict_path = \"drive/MyDrive/CNNAdd/saved_models/CNNLSTMBest.bin\"\n",
        "print(\"Model: CNN with pytorch LSTM\")\n",
        "print(\"Results of extrapolation to sequences of 7:\")\n",
        "test_model(model, model_state_dict_path, device, dataloader_test_7)\n",
        "print(\"Results of extrapolation to sequences of 8:\")\n",
        "test_model(model, model_state_dict_path, device, dataloader_test_8)\n",
        "print(\"Results of extrapolation to sequences of 20:\")\n",
        "test_model(model, model_state_dict_path, device, dataloader_test_20)"
      ],
      "execution_count": null,
      "outputs": []
    },
    {
      "cell_type": "markdown",
      "metadata": {
        "id": "plvLFG0OiFwK"
      },
      "source": [
        "Results:\n",
        "![3.PNG](data:image/png;base64,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)"
      ]
    },
    {
      "cell_type": "markdown",
      "metadata": {
        "id": "LeLeKi58syOR"
      },
      "source": [
        "We see that the CNN with Add logic model achieved fairly good generalization error on much longer sequences. This could be because in this case the CNN model only had to recognize the digits which it is good at. \n",
        "Since the CNN+LSTM model fails to extrapolate and also a slightly higher absolute error, I check whether the LSTM model itself possesses the extrapolation capability. So, I train just the LSTM + fully connceted layer part on sequences of numbers(instead of images)."
      ]
    },
    {
      "cell_type": "code",
      "metadata": {
        "id": "ezHSpKvHWy-g"
      },
      "source": [
        "# This is the wrapper class to train the pytorch LSTM Model \n",
        "class LSTMNetMain(nn.Module):\n",
        "\n",
        "  def __init__(self, input_size, hidden_size, device, num_lstm_layers=1):\n",
        "    super(LSTMNetMain, self).__init__()\n",
        "    self.hidden_size = hidden_size\n",
        "    self.lstm_layer = nn.LSTM(input_size, hidden_size, num_lstm_layers, batch_first = True)\n",
        "    self.fc = nn.Linear(hidden_size, 1)\n",
        "    self.device = device\n",
        "\n",
        "  def forward(self, x):\n",
        "    x_shape = x.shape\n",
        "    x = torch.reshape(x, (x_shape[0], x_shape[1], 1))\n",
        "    batch_size = x_shape[0]\n",
        "    hidden_state = torch.randn(1, batch_size, self.hidden_size).cuda(device = self.device)\n",
        "    cell_state = torch.randn(1, batch_size, self.hidden_size).cuda(device = self.device)\n",
        "    all_out, (final_hidden_state, final_cell_state) = self.lstm_layer(x, (hidden_state, cell_state))\n",
        "    final_hidden_state = final_hidden_state.view(-1, self.hidden_size) \n",
        "    out = F.relu(final_hidden_state)\n",
        "    out = self.fc(out)\n",
        "    out = F.relu(out)\n",
        "    return out[:, 0]"
      ],
      "execution_count": 9,
      "outputs": []
    },
    {
      "cell_type": "code",
      "metadata": {
        "id": "hFSFQQZxt-dn"
      },
      "source": [
        "# Code to train the pytorch LSTM model on sequences of numbers. Hidden size of LSTM = 10\n",
        "BATCH_SIZE = 32\n",
        "NUM_EPOCHS = 400\n",
        "LEARNING_RATE = 1e-3\n",
        "TRAIN_LOSS_RECORD_STEPS  = 25\n",
        "SHUFFLE = True\n",
        "NUM_WORKERS = 2\n",
        "model_save_folder = \"drive/MyDrive/CNNAdd/saved_models/\"\n",
        "graph_save_folder = \"drive/MyDrive/CNNAdd/graphs/\"\n",
        "device = torch.device(\"cuda\")\n",
        "input_size = 1\n",
        "hidden_size = 10\n",
        "\n",
        "best_model_name = \"LSTMBest.bin\"\n",
        "total_loss_graph_name = \"lstm_total_loss.png\"\n",
        "loss_5_graph_name = \"lstm_loss_5.png\"\n",
        "loss_6_graph_name = \"lstm_loss_6.png\"\n",
        "mae_5_graph_name = \"lstm_mae_5.png\"\n",
        "mae_6_graph_name = \"lstm_mae_6.png\"\n",
        "out_file = open(\"drive/MyDrive/CNNAdd/terminal_output/LSTMTraining.txt\", \"w\")\n",
        "model = LSTMNetMain(input_size, hidden_size, device)\n",
        "model.to(device)\n",
        "optimizer = torch.optim.Adam(model.parameters(), lr = LEARNING_RATE)\n",
        "mse_loss = nn.MSELoss(reduction=\"mean\")\n",
        "mean_absolute_error = nn.L1Loss(reduction = \"mean\")\n",
        "\n",
        "print(\"PARAMETERS:\\n LEARNING RATE: \", LEARNING_RATE, \"\\nBATCH SIZE: \", BATCH_SIZE, \"\\nEPOCHS: \",NUM_EPOCHS,\"\\nTRAIN LOSS RECORD STEPS\",TRAIN_LOSS_RECORD_STEPS, file = out_file)\n",
        "\n",
        "dataloader_train_5 = DataLoader(dataset_train_5, batch_size = BATCH_SIZE, shuffle = SHUFFLE, num_workers = NUM_WORKERS)\n",
        "dataloader_test_5 = DataLoader(dataset_test_5, batch_size = BATCH_SIZE, shuffle = SHUFFLE, num_workers = NUM_WORKERS)\n",
        "dataloader_train_6 = DataLoader(dataset_train_6, batch_size = BATCH_SIZE, shuffle = SHUFFLE, num_workers = NUM_WORKERS)\n",
        "dataloader_test_6 = DataLoader(dataset_test_6, batch_size = BATCH_SIZE, shuffle = SHUFFLE, num_workers = NUM_WORKERS)\n",
        "\n",
        "train_model(model_input = \"nums\")\n"
      ],
      "execution_count": 12,
      "outputs": []
    },
    {
      "cell_type": "code",
      "metadata": {
        "id": "PzvQDSR0vOll"
      },
      "source": [
        "input_size = 1\n",
        "hidden_size = 10\n",
        "device = torch.device(\"cuda\")\n",
        "# Testing the LSTM model above\n",
        "model = LSTMNetMain(input_size, hidden_size, device)\n",
        "model_state_dict_path = \"drive/MyDrive/CNNAdd/saved_models/LSTMBest.bin\"\n",
        "\n",
        "print(\"Results of extrapolation to sequences of 7:\")\n",
        "test_model(model, model_state_dict_path, device, dataloader_test_7, model_input = \"nums\")\n",
        "print(\"Results of extrapolation to sequences of 8:\")\n",
        "test_model(model, model_state_dict_path, device, dataloader_test_8, model_input = \"nums\")\n",
        "print(\"Results of extrapolation to sequences of 20:\")\n",
        "test_model(model, model_state_dict_path, device, dataloader_test_20, model_input = \"nums\")"
      ],
      "execution_count": null,
      "outputs": []
    },
    {
      "cell_type": "markdown",
      "metadata": {
        "id": "fJEa_pdVGI0T"
      },
      "source": [
        "Results of just LSTM+fully connected layer trained on sequences of numbers\n",
        "![4.PNG](data:image/png;base64,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)"
      ]
    },
    {
      "cell_type": "markdown",
      "metadata": {
        "id": "O1TNrTkbADj0"
      },
      "source": [
        "Since I found out that the LSTM model itself was not able to extrapolate to larger sequences of numbers, I attempt to create variations of the RNN model to find out if I can make the model learn the simple Add function."
      ]
    },
    {
      "cell_type": "markdown",
      "metadata": {
        "id": "oqQaGeOYAqGK"
      },
      "source": [
        "Firstly, I code an LSTM model on my own and see if I am able to replicate the results I got using the pytorch LSTM"
      ]
    },
    {
      "cell_type": "code",
      "metadata": {
        "id": "yV4yBOGiX2rS"
      },
      "source": [
        "# Normal LSTM object code\n",
        "from torch import sigmoid, tanh, relu\n",
        "from torch.nn import Parameter\n",
        "\n",
        "class MyLSTM(nn.Module):\n",
        "    def __init__(self, input_size, hid_state_size):\n",
        "      super(MyLSTM, self).__init__()\n",
        "      self.hid_state_size = hid_state_size\n",
        "      # Parameters for the forget, input, output, cell state computation in order\n",
        "      self.W_f = Parameter(torch.randn(hid_state_size, input_size))\n",
        "      self.W_i = Parameter(torch.randn(hid_state_size, input_size))\n",
        "      self.W_o = Parameter(torch.randn(hid_state_size, input_size))\n",
        "      self.W_c = Parameter(torch.randn(hid_state_size, input_size))\n",
        "\n",
        "      self.U_f = Parameter(torch.randn(hid_state_size, hid_state_size))\n",
        "      self.U_i = Parameter(torch.randn(hid_state_size, hid_state_size))\n",
        "      self.U_o = Parameter(torch.randn(hid_state_size, hid_state_size))\n",
        "      self.U_c = Parameter(torch.randn(hid_state_size, hid_state_size))\n",
        "\n",
        "      self.b_f = Parameter(torch.randn(hid_state_size))\n",
        "      self.b_i = Parameter(torch.randn(hid_state_size))\n",
        "      self.b_o = Parameter(torch.randn(hid_state_size))\n",
        "      self.b_c = Parameter(torch.randn(hid_state_size))\n",
        "        \n",
        "    def forward(self, x, h):\n",
        "      batch_size = x.shape[0]\n",
        "      sequence_length = x.shape[1]\n",
        "      cell_state = h[1]\n",
        "      hidden_state = h[0]\n",
        "      def one_step(x_t, cell_state, hidden_state):\n",
        "        f_t = sigmoid(torch.matmul(self.W_f, x_t.T).T + torch.matmul(self.U_f, hidden_state.T).T + self.b_f)\n",
        "        i_t = sigmoid(torch.matmul(self.W_i, x_t.T).T + torch.matmul(self.U_i, hidden_state.T).T + self.b_i)\n",
        "        o_t = sigmoid(torch.matmul(self.W_o, x_t.T).T + torch.matmul(self.U_o, hidden_state.T).T + self.b_o)\n",
        "        c_t = tanh(torch.matmul(self.W_c, x_t.T).T + torch.matmul(self.U_c, hidden_state.T).T + self.b_c)\n",
        "        cell_state = torch.mul(f_t, cell_state) + torch.mul(i_t, c_t)\n",
        "        hidden_state = torch.mul(o_t, tanh(cell_state))\n",
        "        return hidden_state, cell_state\n",
        "\n",
        "      # Gathering the outputs for a batch and returning\n",
        "      seq_outputs = []\n",
        "      for i in range(sequence_length):\n",
        "        hidden_state, cell_state = one_step(x[:, i, :], cell_state, hidden_state)\n",
        "        seq_outputs.append(hidden_state)\n",
        "      final_output = torch.stack(seq_outputs, 1)\n",
        "      return final_output, (final_output[:, -1, :], cell_state)      "
      ],
      "execution_count": 9,
      "outputs": []
    },
    {
      "cell_type": "code",
      "metadata": {
        "id": "hfZAocNS-i8C"
      },
      "source": [
        "# This is the wrapper class for the  custom LSTM objects that I create\n",
        "class LSTMNet(nn.Module):\n",
        "\n",
        "  def __init__(self, lstm_object, device):\n",
        "    super(LSTMNet, self).__init__()\n",
        "    self.hidden_size = lstm_object.hid_state_size\n",
        "    self.lstm_layer = lstm_object\n",
        "    self.fc = nn.Linear(self.hidden_size, 1)\n",
        "    self.device = device\n",
        "\n",
        "  def forward(self, x):\n",
        "    x_shape = x.shape\n",
        "    x = torch.reshape(x, (x_shape[0], x_shape[1], 1))\n",
        "    batch_size = x_shape[0]\n",
        "    hidden_state = torch.zeros(batch_size, self.hidden_size).cuda(device = self.device)\n",
        "    cell_state = torch.zeros(batch_size, self.hidden_size).cuda(device = self.device)\n",
        "    all_out, (final_hidden_state, final_cell_state) = self.lstm_layer(x, (hidden_state, cell_state))\n",
        "    final_hidden_state = final_hidden_state.view(-1, self.hidden_size) \n",
        "    out = F.relu(final_hidden_state)\n",
        "    out = self.fc(out)\n",
        "    out = F.relu(out)\n",
        "    return out[:, 0]\n"
      ],
      "execution_count": 10,
      "outputs": []
    },
    {
      "cell_type": "code",
      "metadata": {
        "id": "ockvawCaBQs3"
      },
      "source": [
        "# Code to train MyLSTM model\n",
        "BATCH_SIZE = 32\n",
        "NUM_EPOCHS = 400\n",
        "LEARNING_RATE = 1e-3\n",
        "TRAIN_LOSS_RECORD_STEPS  = 25\n",
        "SHUFFLE = True\n",
        "NUM_WORKERS = 2\n",
        "model_save_folder = \"drive/MyDrive/CNNAdd/saved_models/\"\n",
        "graph_save_folder = \"drive/MyDrive/CNNAdd/graphs/\"\n",
        "device = torch.device(\"cuda\")\n",
        "input_size = 1\n",
        "hidden_size = 10\n",
        "\n",
        "best_model_name = \"MyLSTMBest.bin\"\n",
        "total_loss_graph_name = \"mylstm_total_loss.png\"\n",
        "loss_5_graph_name = \"mylstm_loss_5.png\"\n",
        "loss_6_graph_name = \"mylstm_loss_6.png\"\n",
        "mae_5_graph_name = \"mylstm_mae_5.png\"\n",
        "mae_6_graph_name = \"mylstm_mae_6.png\"\n",
        "out_file = open(\"drive/MyDrive/CNNAdd/terminal_output/MyLSTMTraining.txt\", \"w\")\n",
        "lstm_object = MyLSTM(input_size, hidden_size) \n",
        "model = LSTMNet(lstm_object, device)\n",
        "model.to(device)\n",
        "optimizer = torch.optim.Adam(model.parameters(), lr = LEARNING_RATE)\n",
        "mse_loss = nn.MSELoss(reduction=\"mean\")\n",
        "mean_absolute_error = nn.L1Loss(reduction = \"mean\")\n",
        "\n",
        "print(\"PARAMETERS:\\n LEARNING RATE: \", LEARNING_RATE, \"\\nBATCH SIZE: \", BATCH_SIZE, \"\\nEPOCHS: \",NUM_EPOCHS,\"\\nTRAIN LOSS RECORD STEPS\",TRAIN_LOSS_RECORD_STEPS, file = out_file)\n",
        "\n",
        "dataloader_train_5 = DataLoader(dataset_train_5, batch_size = BATCH_SIZE, shuffle = SHUFFLE, num_workers = NUM_WORKERS)\n",
        "dataloader_test_5 = DataLoader(dataset_test_5, batch_size = BATCH_SIZE, shuffle = SHUFFLE, num_workers = NUM_WORKERS)\n",
        "dataloader_train_6 = DataLoader(dataset_train_6, batch_size = BATCH_SIZE, shuffle = SHUFFLE, num_workers = NUM_WORKERS)\n",
        "dataloader_test_6 = DataLoader(dataset_test_6, batch_size = BATCH_SIZE, shuffle = SHUFFLE, num_workers = NUM_WORKERS)\n",
        "\n",
        "train_model(model_input = \"nums\")"
      ],
      "execution_count": 12,
      "outputs": []
    },
    {
      "cell_type": "code",
      "metadata": {
        "id": "vfTBo8gWDppm"
      },
      "source": [
        "# Testing the MyLSTM model above\n",
        "input_size = 1\n",
        "hidden_size = 10\n",
        "device = torch.device(\"cuda\")\n",
        "lstm_object = MyLSTM(input_size, hidden_size) \n",
        "model = LSTMNet(lstm_object, device)\n",
        "model_state_dict_path = \"drive/MyDrive/CNNAdd/saved_models/MyLSTMBest.bin\"\n",
        "\n",
        "print(\"Results of extrapolation to sequences of 7:\")\n",
        "test_model(model, model_state_dict_path, device, dataloader_test_7, model_input = \"nums\")\n",
        "print(\"Results of extrapolation to sequences of 8:\")\n",
        "test_model(model, model_state_dict_path, device, dataloader_test_8, model_input = \"nums\")\n",
        "print(\"Results of extrapolation to sequences of 20:\")\n",
        "test_model(model, model_state_dict_path, device, dataloader_test_20, model_input = \"nums\")"
      ],
      "execution_count": null,
      "outputs": []
    },
    {
      "cell_type": "markdown",
      "metadata": {
        "id": "04Nr0TFoUOEx"
      },
      "source": [
        "Results of MyLSTM model\n",
        "\n",
        "![5.PNG](data:image/png;base64,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)"
      ]
    },
    {
      "cell_type": "markdown",
      "metadata": {
        "id": "KHc3MiXYTP3b"
      },
      "source": [
        "The results above are actually better compared to pytorch LSTM for in-distribution generalization. Slightly worse for extrapolation sequence lengths 7 and 8 and better for sequence length 20. These differences might be due to changes of initialization as I initialize the hidden and cell states with zero vectors."
      ]
    },
    {
      "cell_type": "markdown",
      "metadata": {
        "id": "oUcNnk-tIfw2"
      },
      "source": [
        "The LSTM model actually only needs to learn a very simple Add function. I suppose that having all the complicated functions such as the tanh function and all the gates are preventing it from learning the simple Add function.\n",
        "\n",
        "So I create a very simple RNN with the following equation at every step\n",
        "\n",
        "_hidden_state = W.inp + U.hidden_state_\n",
        "\n",
        "Where inp is the input at the step, W and U are weight matrices. In this the model only needs to accumulate the sum in the hidden state. The final hidden state is passed to a fully connected layer with ReLU activation function. The hidden state size I chose is 10 as above."
      ]
    },
    {
      "cell_type": "code",
      "metadata": {
        "id": "4JNk0TBS-vVz"
      },
      "source": [
        "# Simple RNN model\n",
        "from torch import sigmoid, tanh, relu\n",
        "from torch.nn import Parameter\n",
        "\n",
        "class VerySimpleRNN(nn.Module):\n",
        "    def __init__(self, input_size, hid_state_size):\n",
        "      super(VerySimpleRNN, self).__init__()\n",
        "      self.hid_state_size = hid_state_size\n",
        "      self.W_i = Parameter(torch.randn(hid_state_size, input_size))\n",
        "      self.U_i = Parameter(torch.randn(hid_state_size, hid_state_size))\n",
        "\n",
        "    def forward(self, x, h):\n",
        "      batch_size = x.shape[0]\n",
        "      sequence_length = x.shape[1]\n",
        "      # Here cell state is just a place holder \n",
        "      cell_state = h[1]\n",
        "      hidden_state = h[0]\n",
        "      def one_step(x_t, cell_state, hidden_state):\n",
        "        hidden_state = torch.matmul(self.W_i, x_t.T).T + torch.matmul(self.U_i, hidden_state.T).T\n",
        "        return hidden_state, cell_state\n",
        "\n",
        "      # Gathering the outputs for a batch and returning\n",
        "      seq_outputs = []\n",
        "      for i in range(sequence_length):\n",
        "        hidden_state, cell_state = one_step(x[:, i, :], cell_state, hidden_state)\n",
        "        seq_outputs.append(hidden_state)\n",
        "      final_output = torch.stack(seq_outputs, 1)\n",
        "      return final_output, (final_output[:, -1, :], cell_state)      "
      ],
      "execution_count": 11,
      "outputs": []
    },
    {
      "cell_type": "code",
      "metadata": {
        "id": "p74CjIgMPAOU"
      },
      "source": [
        "# Code to train the VerySimpleRNN model\n",
        "BATCH_SIZE = 32\n",
        "NUM_EPOCHS = 400\n",
        "LEARNING_RATE = 1e-3\n",
        "TRAIN_LOSS_RECORD_STEPS  = 25\n",
        "SHUFFLE = True\n",
        "NUM_WORKERS = 2\n",
        "model_save_folder = \"drive/MyDrive/CNNAdd/saved_models/\"\n",
        "graph_save_folder = \"drive/MyDrive/CNNAdd/graphs/\"\n",
        "device = torch.device(\"cuda\")\n",
        "input_size = 1\n",
        "hidden_size = 10\n",
        "\n",
        "best_model_name = \"VerySimpleRNNBest.bin\"\n",
        "total_loss_graph_name = \"vsrnn_total_loss.png\"\n",
        "loss_5_graph_name = \"vsrnn_loss_5.png\"\n",
        "loss_6_graph_name = \"vsrnn_loss_6.png\"\n",
        "mae_5_graph_name = \"vsrnn_mae_5.png\"\n",
        "mae_6_graph_name = \"vsrnn_mae_6.png\"\n",
        "out_file = open(\"drive/MyDrive/CNNAdd/terminal_output/VSRNNTraining.txt\", \"w\")\n",
        "lstm_object = VerySimpleRNN(input_size, hidden_size) \n",
        "model = LSTMNet(lstm_object, device)\n",
        "\n",
        "model.to(device)\n",
        "optimizer = torch.optim.Adam(model.parameters(), lr = LEARNING_RATE)\n",
        "mse_loss = nn.MSELoss(reduction=\"mean\")\n",
        "mean_absolute_error = nn.L1Loss(reduction = \"mean\")\n",
        "\n",
        "print(\"PARAMETERS:\\n LEARNING RATE: \", LEARNING_RATE, \"\\nBATCH SIZE: \", BATCH_SIZE, \"\\nEPOCHS: \",NUM_EPOCHS,\"\\nTRAIN LOSS RECORD STEPS\",TRAIN_LOSS_RECORD_STEPS, file = out_file)\n",
        "\n",
        "dataloader_train_5 = DataLoader(dataset_train_5, batch_size = BATCH_SIZE, shuffle = SHUFFLE, num_workers = NUM_WORKERS)\n",
        "dataloader_test_5 = DataLoader(dataset_test_5, batch_size = BATCH_SIZE, shuffle = SHUFFLE, num_workers = NUM_WORKERS)\n",
        "dataloader_train_6 = DataLoader(dataset_train_6, batch_size = BATCH_SIZE, shuffle = SHUFFLE, num_workers = NUM_WORKERS)\n",
        "dataloader_test_6 = DataLoader(dataset_test_6, batch_size = BATCH_SIZE, shuffle = SHUFFLE, num_workers = NUM_WORKERS)\n",
        "\n",
        "train_model(model_input = \"nums\")"
      ],
      "execution_count": 12,
      "outputs": []
    },
    {
      "cell_type": "code",
      "metadata": {
        "id": "Ne3wu5vbXMGO"
      },
      "source": [
        "# Testing the Very Simple RNN model above\n",
        "input_size = 1\n",
        "hidden_size = 10\n",
        "device = torch.device(\"cuda\")\n",
        "lstm_object = VerySimpleRNN(input_size, hidden_size) \n",
        "model = LSTMNet(lstm_object, device)\n",
        "model_state_dict_path = \"drive/MyDrive/CNNAdd/saved_models/VerySimpleRNNBest.bin\"\n",
        "\n",
        "print(\"Results of extrapolation to sequences of 7:\")\n",
        "test_model(model, model_state_dict_path, device, dataloader_test_7, model_input = \"nums\")\n",
        "print(\"Results of extrapolation to sequences of 8:\")\n",
        "test_model(model, model_state_dict_path, device, dataloader_test_8, model_input = \"nums\")\n",
        "print(\"Results of extrapolation to sequences of 20:\")\n",
        "test_model(model, model_state_dict_path, device, dataloader_test_20, model_input = \"nums\")"
      ],
      "execution_count": null,
      "outputs": []
    },
    {
      "cell_type": "markdown",
      "metadata": {
        "id": "667JbSAZZq53"
      },
      "source": [
        "Very Simple RNN results:\n",
        "\n",
        "![6.PNG](data:image/png;base64,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)"
      ]
    },
    {
      "cell_type": "markdown",
      "metadata": {
        "id": "ngMXcR2SZ5a3"
      },
      "source": [
        "Although the in-distribution errors are the best of all, the OOD sequence errors sky-rocketed. This is an unexpected outcome which is probably happening due to repeated multiplication with a value greater than 1 in the weights causing exponential increase in value in the hidden vector with increase in sequence length."
      ]
    },
    {
      "cell_type": "code",
      "metadata": {
        "colab": {
          "base_uri": "https://localhost:8080/"
        },
        "id": "wF8hCXUaEOKW",
        "outputId": "86dc9a39-da34-4c7f-971d-1a2ebe3f5bc2"
      },
      "source": [
        "# Checking the maximum weight in each of the 2 weight matrices\n",
        "lstm_object = VerySimpleRNN(1, 10) \n",
        "device = torch.device(\"cuda\")\n",
        "model = LSTMNet(lstm_object, device)\n",
        "model_state_dict_path = \"drive/MyDrive/CNNAdd/saved_models/VerySimpleRNNBest.bin\"\n",
        "model.load_state_dict(torch.load(model_state_dict_path))\n",
        "model.to(device)\n",
        "print(\"Max weight in W_i:\", max(model.lstm_layer.W_i.flatten()))\n",
        "print(\"Max weight in U_i:\", max(model.lstm_layer.U_i.flatten()))"
      ],
      "execution_count": 16,
      "outputs": [
        {
          "output_type": "stream",
          "name": "stdout",
          "text": [
            "Max weight in W_i: tensor(2.5347, device='cuda:0', grad_fn=<UnbindBackward0>)\n",
            "Max weight in U_i: tensor(2.5630, device='cuda:0', grad_fn=<UnbindBackward0>)\n"
          ]
        }
      ]
    },
    {
      "cell_type": "markdown",
      "metadata": {
        "id": "0oH16vuBbb3d"
      },
      "source": [
        "After checking the weights found out that\n",
        "\n",
        "Max weight in W_i: 2.5347\n",
        "\n",
        "Max weight in U_i: 2.5630\n",
        "\n",
        "These might probably be the reason for the skyrocketing of the extrapolation errors. Maybe restricting the weights to be between 0 and 1 and probably more close to the ends as in the Neural Arithmetic Logic Units paper would be helpful.\n"
      ]
    },
    {
      "cell_type": "code",
      "metadata": {
        "id": "Uu-6xKHy-z1S"
      },
      "source": [
        "\"\"\"\n",
        "Here in I create a wrapper class to create models of CNN + custom RNN models, the custom RNN is passed in during initialization\n",
        "of an object of this class\n",
        "\"\"\"\n",
        "class CNNLSTM(nn.Module):\n",
        "\n",
        "  def __init__(self, lstm_object, device):\n",
        "    super(CNNLSTM, self).__init__()\n",
        "    self.conv1 = nn.Conv2d(1,32,3,1)\n",
        "    self.conv2 = nn.Conv2d(32,64,3,1)\n",
        "    self.dropout1 = nn.Dropout2d(0.25)\n",
        "    self.fc1 = nn.Linear(9216, 128)\n",
        "    self.fc2 = nn.Linear(128, 1)\n",
        "    self.lstm_hidden_size = lstm_object.hid_state_size\n",
        "    self.lstm_layer = lstm_object\n",
        "    self.lstm_fc = nn.Linear(self.lstm_hidden_size, 1)\n",
        "    self.device = device\n",
        "\n",
        "  def forward(self, x):\n",
        "    x_shape = x.shape\n",
        "    x = torch.reshape(x, (x_shape[0]*x_shape[1], x_shape[2], x_shape[3], x_shape[4]))\n",
        "    x = self.conv1(x)\n",
        "    x = F.relu(x)\n",
        "    x = self.conv2(x)\n",
        "    x = F.relu(x)\n",
        "    x = F.max_pool2d(x, 2)\n",
        "    x = self.dropout1(x)\n",
        "    x = torch.flatten(x, 1)\n",
        "    x = self.fc1(x)\n",
        "    x = F.relu(x)\n",
        "    x = self.fc2(x)\n",
        "    x = F.relu(x)\n",
        "    x = torch.reshape(x, (x_shape[0], x_shape[1], 1))\n",
        "    batch_size = x_shape[0]\n",
        "    hidden_state = torch.zeros(batch_size, self.lstm_hidden_size).cuda(device = self.device)\n",
        "    cell_state = torch.zeros(batch_size, self.lstm_hidden_size).cuda(device = self.device)\n",
        "    all_out, (final_hidden_state, final_cell_state) = self.lstm_layer(x, (hidden_state, cell_state))\n",
        "    final_hidden_state = final_hidden_state.view(-1, self.lstm_hidden_size) \n",
        "    out = F.relu(final_hidden_state)\n",
        "    out = self.lstm_fc(out)\n",
        "    out = F.relu(out)\n",
        "    return out[:, 0]\n"
      ],
      "execution_count": null,
      "outputs": []
    },
    {
      "cell_type": "code",
      "metadata": {
        "id": "C3EEuUrz_HGy"
      },
      "source": [
        "# Code to train CNN+pytorch LSTM/Custom LSTM Models\n",
        "BATCH_SIZE = 32\n",
        "NUM_EPOCHS = 300\n",
        "LEARNING_RATE = 1e-3\n",
        "TRAIN_LOSS_RECORD_STEPS  = 25\n",
        "SHUFFLE = True\n",
        "NUM_WORKERS = 2\n",
        "device = torch.device(\"cuda\")\n",
        "model_save_folder = \"drive/MyDrive/CNNAdd/saved_models/\"\n",
        "graph_save_folder = \"drive/MyDrive/CNNAdd/graphs/\"\n",
        "input_size = 1\n",
        "hidden_size =  10\n",
        "\n",
        "# best_model_name = \"CNNLSTMBest2.bin\"\n",
        "# total_loss_graph_name = \"cnnlstm_total_loss2.png\"\n",
        "# loss_5_graph_name = \"cnnlstm_loss_5_2.png\"\n",
        "# loss_6_graph_name = \"cnnlstm_loss_6_2.png\"\n",
        "# mae_5_graph_name = \"cnnlstm_mae_5_2.png\"\n",
        "# mae_6_graph_name = \"cnnlstm_mae_6_2.png\"\n",
        "# out_file = open(\"drive/MyDrive/CNNAdd/terminal_output/CNNLSTMTraining2.txt\", \"w\")\n",
        "# lstm_object = MyLSTM(input_size, hidden_size)\n",
        "# model = CNNLSTM(lstm_object, device)\n",
        "\n",
        "model.to(device= device)\n",
        "optimizer = torch.optim.Adam(model.parameters(), lr = LEARNING_RATE)\n",
        "mse_loss = nn.MSELoss(reduction=\"mean\")\n",
        "mean_absolute_error = nn.L1Loss(reduction = \"mean\")\n",
        "\n",
        "print(\"PARAMETERS:\\n LEARNING RATE: \", LEARNING_RATE, \"\\nBATCH SIZE: \", BATCH_SIZE, \"\\nEPOCHS: \",NUM_EPOCHS,\"\\nTRAIN LOSS RECORD STEPS\",TRAIN_LOSS_RECORD_STEPS, file = out_file)\n",
        "\n",
        "dataloader_train_5 = DataLoader(dataset_train_5, batch_size = BATCH_SIZE, shuffle = SHUFFLE, num_workers = NUM_WORKERS)\n",
        "dataloader_test_5 = DataLoader(dataset_test_5, batch_size = BATCH_SIZE, shuffle = SHUFFLE, num_workers = NUM_WORKERS)\n",
        "dataloader_train_6 = DataLoader(dataset_train_6, batch_size = BATCH_SIZE, shuffle = SHUFFLE, num_workers = NUM_WORKERS)\n",
        "dataloader_test_6 = DataLoader(dataset_test_6, batch_size = BATCH_SIZE, shuffle = SHUFFLE, num_workers = NUM_WORKERS)\n",
        "\n",
        "train_model()"
      ],
      "execution_count": null,
      "outputs": []
    },
    {
      "cell_type": "markdown",
      "metadata": {
        "id": "MQ6bMlX9c2dq"
      },
      "source": [
        "This shows that learning to generalize on in-distribution data and learning a function that also generalizes on OOD data are two very different things. Also it seems that composition of neural networks doesn't work in a straight-forward manner. This can be seen by checking the results of CNN with Logic model results and LSTM results and comparing it with CNN + LSTM model results. Although the individual models could generalize fairly well on in-distribution data, the combined model couldn't perform as well.\n",
        "\n",
        "<h2>More experiments and results coming soon...<h2>"
      ]
    }
  ]
}